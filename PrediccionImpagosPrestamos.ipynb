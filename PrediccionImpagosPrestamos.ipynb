{
 "cells": [
  {
   "cell_type": "markdown",
   "metadata": {},
   "source": [
    "# PREVENCIÓN DE IMPAGOS EN PRÉSTAMOS BANCARIOS MEDIANTE TÉCNICAS DE APRENDIZAJE AUTOMÁTICO"
   ]
  },
  {
   "cell_type": "markdown",
   "metadata": {},
   "source": [
    "- **AUTOR**: Fátima Illana Guerra                                        "
   ]
  },
  {
   "cell_type": "markdown",
   "metadata": {},
   "source": [
    "## DATA SET: GERMAN CREDIT DATA"
   ]
  },
  {
   "cell_type": "markdown",
   "metadata": {},
   "source": [
    "Primero importamos las librerías necesarias y la base de datos. Para ello tendremos que instalar la siguiente librería: *pip install ucimlrepo*"
   ]
  },
  {
   "cell_type": "code",
   "execution_count": 1,
   "metadata": {},
   "outputs": [],
   "source": [
    "# Datos\n",
    "from ucimlrepo import fetch_ucirepo\n",
    "\n",
    "# Preprocesado\n",
    "import pandas as pd\n",
    "import numpy as np\n",
    "import matplotlib.pyplot as plt\n",
    "from sklearn.preprocessing import OrdinalEncoder, OneHotEncoder, MinMaxScaler\n",
    "from sklearn.compose import ColumnTransformer\n",
    "\n",
    "# Estudio de datos\n",
    "import seaborn as sns\n",
    "\n",
    "# Separación y análisis de modelos\n",
    "from sklearn.model_selection import train_test_split, GridSearchCV, StratifiedKFold, cross_val_score\n",
    "from sklearn.metrics import classification_report, confusion_matrix, accuracy_score\n",
    "from sklearn import metrics\n",
    "\n",
    "# K-NN\n",
    "from sklearn.neighbors import KNeighborsClassifier\n",
    "\n",
    "# Árboles de Decisión\n",
    "from sklearn.tree import DecisionTreeClassifier, export_text, plot_tree\n",
    "\n",
    "# Regresión Logística\n",
    "from sklearn.linear_model import LogisticRegression\n",
    "\n",
    "# SVM (Support Vector Machines)\n",
    "from sklearn import svm\n"
   ]
  },
  {
   "cell_type": "markdown",
   "metadata": {},
   "source": [
    "La base de datos que utilizaremos se llama 'Statlog (German Credit Data)' y consiste en un conjunto de datos que tiene como objetivo determinar si una persona es apta o no para recibir un préstamo, concretamente en la economía alemana. La base de datos pertenece al respositorio UCI, con ID = 144, por lo que lo importaremos directamente del respositorio a través del paquete que ofrece."
   ]
  },
  {
   "cell_type": "code",
   "execution_count": 2,
   "metadata": {},
   "outputs": [],
   "source": [
    "statlog_german_credit_data = fetch_ucirepo(id=144) "
   ]
  },
  {
   "cell_type": "markdown",
   "metadata": {},
   "source": [
    "Al cargar los datos, en formato Data Frame de Pandas, podemos separarlos directamente entre las características que utilizaremos como predictores y la variable objetivo que queremos predecir."
   ]
  },
  {
   "cell_type": "code",
   "execution_count": 3,
   "metadata": {},
   "outputs": [],
   "source": [
    "X1 = statlog_german_credit_data.data.features\n",
    "y = statlog_german_credit_data.data.targets"
   ]
  },
  {
   "cell_type": "markdown",
   "metadata": {},
   "source": [
    "Ahora imprimiremos la cabeza del Data Frame correspondiente a las variables predictoras para estudiar las características de los datos proporcionados:"
   ]
  },
  {
   "cell_type": "code",
   "execution_count": 4,
   "metadata": {},
   "outputs": [
    {
     "data": {
      "text/html": [
       "<div>\n",
       "<style scoped>\n",
       "    .dataframe tbody tr th:only-of-type {\n",
       "        vertical-align: middle;\n",
       "    }\n",
       "\n",
       "    .dataframe tbody tr th {\n",
       "        vertical-align: top;\n",
       "    }\n",
       "\n",
       "    .dataframe thead th {\n",
       "        text-align: right;\n",
       "    }\n",
       "</style>\n",
       "<table border=\"1\" class=\"dataframe\">\n",
       "  <thead>\n",
       "    <tr style=\"text-align: right;\">\n",
       "      <th></th>\n",
       "      <th>Attribute1</th>\n",
       "      <th>Attribute2</th>\n",
       "      <th>Attribute3</th>\n",
       "      <th>Attribute4</th>\n",
       "      <th>Attribute5</th>\n",
       "      <th>Attribute6</th>\n",
       "      <th>Attribute7</th>\n",
       "      <th>Attribute8</th>\n",
       "      <th>Attribute9</th>\n",
       "      <th>Attribute10</th>\n",
       "      <th>Attribute11</th>\n",
       "      <th>Attribute12</th>\n",
       "      <th>Attribute13</th>\n",
       "      <th>Attribute14</th>\n",
       "      <th>Attribute15</th>\n",
       "      <th>Attribute16</th>\n",
       "      <th>Attribute17</th>\n",
       "      <th>Attribute18</th>\n",
       "      <th>Attribute19</th>\n",
       "      <th>Attribute20</th>\n",
       "    </tr>\n",
       "  </thead>\n",
       "  <tbody>\n",
       "    <tr>\n",
       "      <th>0</th>\n",
       "      <td>A11</td>\n",
       "      <td>6</td>\n",
       "      <td>A34</td>\n",
       "      <td>A43</td>\n",
       "      <td>1169</td>\n",
       "      <td>A65</td>\n",
       "      <td>A75</td>\n",
       "      <td>4</td>\n",
       "      <td>A93</td>\n",
       "      <td>A101</td>\n",
       "      <td>4</td>\n",
       "      <td>A121</td>\n",
       "      <td>67</td>\n",
       "      <td>A143</td>\n",
       "      <td>A152</td>\n",
       "      <td>2</td>\n",
       "      <td>A173</td>\n",
       "      <td>1</td>\n",
       "      <td>A192</td>\n",
       "      <td>A201</td>\n",
       "    </tr>\n",
       "    <tr>\n",
       "      <th>1</th>\n",
       "      <td>A12</td>\n",
       "      <td>48</td>\n",
       "      <td>A32</td>\n",
       "      <td>A43</td>\n",
       "      <td>5951</td>\n",
       "      <td>A61</td>\n",
       "      <td>A73</td>\n",
       "      <td>2</td>\n",
       "      <td>A92</td>\n",
       "      <td>A101</td>\n",
       "      <td>2</td>\n",
       "      <td>A121</td>\n",
       "      <td>22</td>\n",
       "      <td>A143</td>\n",
       "      <td>A152</td>\n",
       "      <td>1</td>\n",
       "      <td>A173</td>\n",
       "      <td>1</td>\n",
       "      <td>A191</td>\n",
       "      <td>A201</td>\n",
       "    </tr>\n",
       "    <tr>\n",
       "      <th>2</th>\n",
       "      <td>A14</td>\n",
       "      <td>12</td>\n",
       "      <td>A34</td>\n",
       "      <td>A46</td>\n",
       "      <td>2096</td>\n",
       "      <td>A61</td>\n",
       "      <td>A74</td>\n",
       "      <td>2</td>\n",
       "      <td>A93</td>\n",
       "      <td>A101</td>\n",
       "      <td>3</td>\n",
       "      <td>A121</td>\n",
       "      <td>49</td>\n",
       "      <td>A143</td>\n",
       "      <td>A152</td>\n",
       "      <td>1</td>\n",
       "      <td>A172</td>\n",
       "      <td>2</td>\n",
       "      <td>A191</td>\n",
       "      <td>A201</td>\n",
       "    </tr>\n",
       "    <tr>\n",
       "      <th>3</th>\n",
       "      <td>A11</td>\n",
       "      <td>42</td>\n",
       "      <td>A32</td>\n",
       "      <td>A42</td>\n",
       "      <td>7882</td>\n",
       "      <td>A61</td>\n",
       "      <td>A74</td>\n",
       "      <td>2</td>\n",
       "      <td>A93</td>\n",
       "      <td>A103</td>\n",
       "      <td>4</td>\n",
       "      <td>A122</td>\n",
       "      <td>45</td>\n",
       "      <td>A143</td>\n",
       "      <td>A153</td>\n",
       "      <td>1</td>\n",
       "      <td>A173</td>\n",
       "      <td>2</td>\n",
       "      <td>A191</td>\n",
       "      <td>A201</td>\n",
       "    </tr>\n",
       "    <tr>\n",
       "      <th>4</th>\n",
       "      <td>A11</td>\n",
       "      <td>24</td>\n",
       "      <td>A33</td>\n",
       "      <td>A40</td>\n",
       "      <td>4870</td>\n",
       "      <td>A61</td>\n",
       "      <td>A73</td>\n",
       "      <td>3</td>\n",
       "      <td>A93</td>\n",
       "      <td>A101</td>\n",
       "      <td>4</td>\n",
       "      <td>A124</td>\n",
       "      <td>53</td>\n",
       "      <td>A143</td>\n",
       "      <td>A153</td>\n",
       "      <td>2</td>\n",
       "      <td>A173</td>\n",
       "      <td>2</td>\n",
       "      <td>A191</td>\n",
       "      <td>A201</td>\n",
       "    </tr>\n",
       "  </tbody>\n",
       "</table>\n",
       "</div>"
      ],
      "text/plain": [
       "  Attribute1  Attribute2 Attribute3 Attribute4  Attribute5 Attribute6  \\\n",
       "0        A11           6        A34        A43        1169        A65   \n",
       "1        A12          48        A32        A43        5951        A61   \n",
       "2        A14          12        A34        A46        2096        A61   \n",
       "3        A11          42        A32        A42        7882        A61   \n",
       "4        A11          24        A33        A40        4870        A61   \n",
       "\n",
       "  Attribute7  Attribute8 Attribute9 Attribute10  Attribute11 Attribute12  \\\n",
       "0        A75           4        A93        A101            4        A121   \n",
       "1        A73           2        A92        A101            2        A121   \n",
       "2        A74           2        A93        A101            3        A121   \n",
       "3        A74           2        A93        A103            4        A122   \n",
       "4        A73           3        A93        A101            4        A124   \n",
       "\n",
       "   Attribute13 Attribute14 Attribute15  Attribute16 Attribute17  Attribute18  \\\n",
       "0           67        A143        A152            2        A173            1   \n",
       "1           22        A143        A152            1        A173            1   \n",
       "2           49        A143        A152            1        A172            2   \n",
       "3           45        A143        A153            1        A173            2   \n",
       "4           53        A143        A153            2        A173            2   \n",
       "\n",
       "  Attribute19 Attribute20  \n",
       "0        A192        A201  \n",
       "1        A191        A201  \n",
       "2        A191        A201  \n",
       "3        A191        A201  \n",
       "4        A191        A201  "
      ]
     },
     "execution_count": 4,
     "metadata": {},
     "output_type": "execute_result"
    }
   ],
   "source": [
    "X1.head()"
   ]
  },
  {
   "cell_type": "markdown",
   "metadata": {},
   "source": [
    "Sabemos, por la documentación de los datos, que existe una versión alternativa con la versión numérica de los datos. Sin embargo, como dicha versión no está documentada ni cuenta con explicaciones del procesado de los datos, utilizaremos el dataset original y lo preprocesaremos. "
   ]
  },
  {
   "cell_type": "markdown",
   "metadata": {},
   "source": [
    "## PREPROCESADO DE DATOS"
   ]
  },
  {
   "cell_type": "markdown",
   "metadata": {},
   "source": [
    "En seguida vemos que contamos con 20 variables distintas con valores cuyo significado no es representativo. Por ello, miramos la documentación y estudiamos cada una:\n",
    "\n",
    "1. Cuenta de cheques - Ordinal - 4 valores posibles: [A14 < A11 < A12 < A13]\n",
    "2. Duración del préstamo - Numérica - Unidad: meses\n",
    "3. Historial de préstamos - Ordinal - 5 valores posibles: [A34 < A33 < A32 < A31 < A30]\n",
    "4. Propósito del crédito - Categórica - 11 valores posibles\n",
    "5. Cantidad del préstamo - Numérica - Unidad: Deutsche Mark\n",
    "6. Cuenta de Ahorros - Ordinal - 5 valores posibles: [A65 < A61 < A62 < A63 < A64]\n",
    "7. Tiempo Laboral - Ordinal - 5 valores posibles: [A71 < A72 < A73 < A74 < A75]\n",
    "8. Tasa Cuota Mensual/Ingresos - Numérica - Unidad: porcentaje\n",
    "9. Estado personal y sexo - Categórica - 5 valores posibles\n",
    "10. Presencia de segundo deudor/garante - Categórica - 3 valores posibles\n",
    "11. Antigüedad en hogar - Numérica - Unidad: años\n",
    "12. Propiedades - Categórica - 4 valores posibles\n",
    "13. Edad - Numérica - Unidad: años\n",
    "14. Presencia de otros pagos a plazos - Categórica - 3 valores posibles\n",
    "15. Propiedad del hogar - Categórica - 3 valores posibles\n",
    "16. Número de créditos en este banco - Numérica - Unidad: enteros\n",
    "17. Estado de profesión - Ordinal - 4 valores posibles: [A171 < A172 < A173 < A174]\n",
    "18. Número de personas dependientes del préstamo - Numérica - Unidades: enteros\n",
    "19. Estado del registro del número de teléfono - Binaria [0, 1]\n",
    "20. Trabajador extranjero - Binaria [0, 1]"
   ]
  },
  {
   "cell_type": "markdown",
   "metadata": {},
   "source": [
    "En total tenemos:\n",
    "- 5 variables ordinales\n",
    "- 7 variables numéricas\n",
    "- 8 variables categóricas, de entre las cuales 2 son binarias"
   ]
  },
  {
   "cell_type": "markdown",
   "metadata": {},
   "source": [
    "No obstante nos damos cuenta de que, pese a que la mayoría de variables son importantes para la predicción del modelo, hay una en concreto que es irrelevante: el registro del núemro de teléfono. Esta característica no nos porporciona ninguna información relevante acerca de la aptitud de una persona para recibir un préstamo, por lo que decidimos eliminarla. Además, la variable acerca de la propiead del hogar puede llegar a ser reduntante, al estar incluída en la varaible de propiedades. Por ello, y para simplificar el proceso, decidimos eliminarla también."
   ]
  },
  {
   "cell_type": "code",
   "execution_count": 5,
   "metadata": {},
   "outputs": [
    {
     "data": {
      "text/html": [
       "<div>\n",
       "<style scoped>\n",
       "    .dataframe tbody tr th:only-of-type {\n",
       "        vertical-align: middle;\n",
       "    }\n",
       "\n",
       "    .dataframe tbody tr th {\n",
       "        vertical-align: top;\n",
       "    }\n",
       "\n",
       "    .dataframe thead th {\n",
       "        text-align: right;\n",
       "    }\n",
       "</style>\n",
       "<table border=\"1\" class=\"dataframe\">\n",
       "  <thead>\n",
       "    <tr style=\"text-align: right;\">\n",
       "      <th></th>\n",
       "      <th>Attribute1</th>\n",
       "      <th>Attribute2</th>\n",
       "      <th>Attribute3</th>\n",
       "      <th>Attribute4</th>\n",
       "      <th>Attribute5</th>\n",
       "      <th>Attribute6</th>\n",
       "      <th>Attribute7</th>\n",
       "      <th>Attribute8</th>\n",
       "      <th>Attribute9</th>\n",
       "      <th>Attribute10</th>\n",
       "      <th>Attribute11</th>\n",
       "      <th>Attribute12</th>\n",
       "      <th>Attribute13</th>\n",
       "      <th>Attribute14</th>\n",
       "      <th>Attribute16</th>\n",
       "      <th>Attribute17</th>\n",
       "      <th>Attribute18</th>\n",
       "      <th>Attribute20</th>\n",
       "    </tr>\n",
       "  </thead>\n",
       "  <tbody>\n",
       "    <tr>\n",
       "      <th>0</th>\n",
       "      <td>A11</td>\n",
       "      <td>6</td>\n",
       "      <td>A34</td>\n",
       "      <td>A43</td>\n",
       "      <td>1169</td>\n",
       "      <td>A65</td>\n",
       "      <td>A75</td>\n",
       "      <td>4</td>\n",
       "      <td>A93</td>\n",
       "      <td>A101</td>\n",
       "      <td>4</td>\n",
       "      <td>A121</td>\n",
       "      <td>67</td>\n",
       "      <td>A143</td>\n",
       "      <td>2</td>\n",
       "      <td>A173</td>\n",
       "      <td>1</td>\n",
       "      <td>A201</td>\n",
       "    </tr>\n",
       "    <tr>\n",
       "      <th>1</th>\n",
       "      <td>A12</td>\n",
       "      <td>48</td>\n",
       "      <td>A32</td>\n",
       "      <td>A43</td>\n",
       "      <td>5951</td>\n",
       "      <td>A61</td>\n",
       "      <td>A73</td>\n",
       "      <td>2</td>\n",
       "      <td>A92</td>\n",
       "      <td>A101</td>\n",
       "      <td>2</td>\n",
       "      <td>A121</td>\n",
       "      <td>22</td>\n",
       "      <td>A143</td>\n",
       "      <td>1</td>\n",
       "      <td>A173</td>\n",
       "      <td>1</td>\n",
       "      <td>A201</td>\n",
       "    </tr>\n",
       "    <tr>\n",
       "      <th>2</th>\n",
       "      <td>A14</td>\n",
       "      <td>12</td>\n",
       "      <td>A34</td>\n",
       "      <td>A46</td>\n",
       "      <td>2096</td>\n",
       "      <td>A61</td>\n",
       "      <td>A74</td>\n",
       "      <td>2</td>\n",
       "      <td>A93</td>\n",
       "      <td>A101</td>\n",
       "      <td>3</td>\n",
       "      <td>A121</td>\n",
       "      <td>49</td>\n",
       "      <td>A143</td>\n",
       "      <td>1</td>\n",
       "      <td>A172</td>\n",
       "      <td>2</td>\n",
       "      <td>A201</td>\n",
       "    </tr>\n",
       "    <tr>\n",
       "      <th>3</th>\n",
       "      <td>A11</td>\n",
       "      <td>42</td>\n",
       "      <td>A32</td>\n",
       "      <td>A42</td>\n",
       "      <td>7882</td>\n",
       "      <td>A61</td>\n",
       "      <td>A74</td>\n",
       "      <td>2</td>\n",
       "      <td>A93</td>\n",
       "      <td>A103</td>\n",
       "      <td>4</td>\n",
       "      <td>A122</td>\n",
       "      <td>45</td>\n",
       "      <td>A143</td>\n",
       "      <td>1</td>\n",
       "      <td>A173</td>\n",
       "      <td>2</td>\n",
       "      <td>A201</td>\n",
       "    </tr>\n",
       "    <tr>\n",
       "      <th>4</th>\n",
       "      <td>A11</td>\n",
       "      <td>24</td>\n",
       "      <td>A33</td>\n",
       "      <td>A40</td>\n",
       "      <td>4870</td>\n",
       "      <td>A61</td>\n",
       "      <td>A73</td>\n",
       "      <td>3</td>\n",
       "      <td>A93</td>\n",
       "      <td>A101</td>\n",
       "      <td>4</td>\n",
       "      <td>A124</td>\n",
       "      <td>53</td>\n",
       "      <td>A143</td>\n",
       "      <td>2</td>\n",
       "      <td>A173</td>\n",
       "      <td>2</td>\n",
       "      <td>A201</td>\n",
       "    </tr>\n",
       "  </tbody>\n",
       "</table>\n",
       "</div>"
      ],
      "text/plain": [
       "  Attribute1  Attribute2 Attribute3 Attribute4  Attribute5 Attribute6  \\\n",
       "0        A11           6        A34        A43        1169        A65   \n",
       "1        A12          48        A32        A43        5951        A61   \n",
       "2        A14          12        A34        A46        2096        A61   \n",
       "3        A11          42        A32        A42        7882        A61   \n",
       "4        A11          24        A33        A40        4870        A61   \n",
       "\n",
       "  Attribute7  Attribute8 Attribute9 Attribute10  Attribute11 Attribute12  \\\n",
       "0        A75           4        A93        A101            4        A121   \n",
       "1        A73           2        A92        A101            2        A121   \n",
       "2        A74           2        A93        A101            3        A121   \n",
       "3        A74           2        A93        A103            4        A122   \n",
       "4        A73           3        A93        A101            4        A124   \n",
       "\n",
       "   Attribute13 Attribute14  Attribute16 Attribute17  Attribute18 Attribute20  \n",
       "0           67        A143            2        A173            1        A201  \n",
       "1           22        A143            1        A173            1        A201  \n",
       "2           49        A143            1        A172            2        A201  \n",
       "3           45        A143            1        A173            2        A201  \n",
       "4           53        A143            2        A173            2        A201  "
      ]
     },
     "execution_count": 5,
     "metadata": {},
     "output_type": "execute_result"
    }
   ],
   "source": [
    "X2 = X1.copy()\n",
    "X2 = X2.drop('Attribute19', axis=1)\n",
    "X2 = X2.drop('Attribute15', axis=1)\n",
    "X2.head()"
   ]
  },
  {
   "cell_type": "markdown",
   "metadata": {},
   "source": [
    "Además vemos que tenemos una variable que involucra el sexo de la persona y su situación personal. Esta concretamente es de interés ya que debemos evitar la existencia de posibles sesgos en nuestra predicción provocada por la irregularidad en los datos. Por ello estudiamos la distribución de las distintas categorías posibles en esta variable:"
   ]
  },
  {
   "cell_type": "code",
   "execution_count": 6,
   "metadata": {},
   "outputs": [
    {
     "data": {
      "image/png": "[encoded data removed]",
      "text/plain": [
       "<Figure size 640x480 with 1 Axes>"
      ]
     },
     "metadata": {},
     "output_type": "display_data"
    }
   ],
   "source": [
    "sns.countplot(data=X2, x='Attribute9')\n",
    "plt.show()"
   ]
  },
  {
   "cell_type": "markdown",
   "metadata": {},
   "source": [
    "Vemos que la distrbución es completamente irregular, con una mayoría de las observaciones teniendo el valor A93. Para evitar sesgos procedemos a eliminar la variable."
   ]
  },
  {
   "cell_type": "code",
   "execution_count": 7,
   "metadata": {},
   "outputs": [
    {
     "data": {
      "text/html": [
       "<div>\n",
       "<style scoped>\n",
       "    .dataframe tbody tr th:only-of-type {\n",
       "        vertical-align: middle;\n",
       "    }\n",
       "\n",
       "    .dataframe tbody tr th {\n",
       "        vertical-align: top;\n",
       "    }\n",
       "\n",
       "    .dataframe thead th {\n",
       "        text-align: right;\n",
       "    }\n",
       "</style>\n",
       "<table border=\"1\" class=\"dataframe\">\n",
       "  <thead>\n",
       "    <tr style=\"text-align: right;\">\n",
       "      <th></th>\n",
       "      <th>Attribute1</th>\n",
       "      <th>Attribute2</th>\n",
       "      <th>Attribute3</th>\n",
       "      <th>Attribute4</th>\n",
       "      <th>Attribute5</th>\n",
       "      <th>Attribute6</th>\n",
       "      <th>Attribute7</th>\n",
       "      <th>Attribute8</th>\n",
       "      <th>Attribute10</th>\n",
       "      <th>Attribute11</th>\n",
       "      <th>Attribute12</th>\n",
       "      <th>Attribute13</th>\n",
       "      <th>Attribute14</th>\n",
       "      <th>Attribute16</th>\n",
       "      <th>Attribute17</th>\n",
       "      <th>Attribute18</th>\n",
       "      <th>Attribute20</th>\n",
       "    </tr>\n",
       "  </thead>\n",
       "  <tbody>\n",
       "    <tr>\n",
       "      <th>0</th>\n",
       "      <td>A11</td>\n",
       "      <td>6</td>\n",
       "      <td>A34</td>\n",
       "      <td>A43</td>\n",
       "      <td>1169</td>\n",
       "      <td>A65</td>\n",
       "      <td>A75</td>\n",
       "      <td>4</td>\n",
       "      <td>A101</td>\n",
       "      <td>4</td>\n",
       "      <td>A121</td>\n",
       "      <td>67</td>\n",
       "      <td>A143</td>\n",
       "      <td>2</td>\n",
       "      <td>A173</td>\n",
       "      <td>1</td>\n",
       "      <td>A201</td>\n",
       "    </tr>\n",
       "    <tr>\n",
       "      <th>1</th>\n",
       "      <td>A12</td>\n",
       "      <td>48</td>\n",
       "      <td>A32</td>\n",
       "      <td>A43</td>\n",
       "      <td>5951</td>\n",
       "      <td>A61</td>\n",
       "      <td>A73</td>\n",
       "      <td>2</td>\n",
       "      <td>A101</td>\n",
       "      <td>2</td>\n",
       "      <td>A121</td>\n",
       "      <td>22</td>\n",
       "      <td>A143</td>\n",
       "      <td>1</td>\n",
       "      <td>A173</td>\n",
       "      <td>1</td>\n",
       "      <td>A201</td>\n",
       "    </tr>\n",
       "    <tr>\n",
       "      <th>2</th>\n",
       "      <td>A14</td>\n",
       "      <td>12</td>\n",
       "      <td>A34</td>\n",
       "      <td>A46</td>\n",
       "      <td>2096</td>\n",
       "      <td>A61</td>\n",
       "      <td>A74</td>\n",
       "      <td>2</td>\n",
       "      <td>A101</td>\n",
       "      <td>3</td>\n",
       "      <td>A121</td>\n",
       "      <td>49</td>\n",
       "      <td>A143</td>\n",
       "      <td>1</td>\n",
       "      <td>A172</td>\n",
       "      <td>2</td>\n",
       "      <td>A201</td>\n",
       "    </tr>\n",
       "    <tr>\n",
       "      <th>3</th>\n",
       "      <td>A11</td>\n",
       "      <td>42</td>\n",
       "      <td>A32</td>\n",
       "      <td>A42</td>\n",
       "      <td>7882</td>\n",
       "      <td>A61</td>\n",
       "      <td>A74</td>\n",
       "      <td>2</td>\n",
       "      <td>A103</td>\n",
       "      <td>4</td>\n",
       "      <td>A122</td>\n",
       "      <td>45</td>\n",
       "      <td>A143</td>\n",
       "      <td>1</td>\n",
       "      <td>A173</td>\n",
       "      <td>2</td>\n",
       "      <td>A201</td>\n",
       "    </tr>\n",
       "    <tr>\n",
       "      <th>4</th>\n",
       "      <td>A11</td>\n",
       "      <td>24</td>\n",
       "      <td>A33</td>\n",
       "      <td>A40</td>\n",
       "      <td>4870</td>\n",
       "      <td>A61</td>\n",
       "      <td>A73</td>\n",
       "      <td>3</td>\n",
       "      <td>A101</td>\n",
       "      <td>4</td>\n",
       "      <td>A124</td>\n",
       "      <td>53</td>\n",
       "      <td>A143</td>\n",
       "      <td>2</td>\n",
       "      <td>A173</td>\n",
       "      <td>2</td>\n",
       "      <td>A201</td>\n",
       "    </tr>\n",
       "  </tbody>\n",
       "</table>\n",
       "</div>"
      ],
      "text/plain": [
       "  Attribute1  Attribute2 Attribute3 Attribute4  Attribute5 Attribute6  \\\n",
       "0        A11           6        A34        A43        1169        A65   \n",
       "1        A12          48        A32        A43        5951        A61   \n",
       "2        A14          12        A34        A46        2096        A61   \n",
       "3        A11          42        A32        A42        7882        A61   \n",
       "4        A11          24        A33        A40        4870        A61   \n",
       "\n",
       "  Attribute7  Attribute8 Attribute10  Attribute11 Attribute12  Attribute13  \\\n",
       "0        A75           4        A101            4        A121           67   \n",
       "1        A73           2        A101            2        A121           22   \n",
       "2        A74           2        A101            3        A121           49   \n",
       "3        A74           2        A103            4        A122           45   \n",
       "4        A73           3        A101            4        A124           53   \n",
       "\n",
       "  Attribute14  Attribute16 Attribute17  Attribute18 Attribute20  \n",
       "0        A143            2        A173            1        A201  \n",
       "1        A143            1        A173            1        A201  \n",
       "2        A143            1        A172            2        A201  \n",
       "3        A143            1        A173            2        A201  \n",
       "4        A143            2        A173            2        A201  "
      ]
     },
     "execution_count": 7,
     "metadata": {},
     "output_type": "execute_result"
    }
   ],
   "source": [
    "X3 = X2.copy()\n",
    "X3 = X3.drop('Attribute9', axis=1)\n",
    "X3.head()"
   ]
  },
  {
   "cell_type": "markdown",
   "metadata": {},
   "source": [
    "Ahora, para que el contexto de las variables sea más significativo, cambiamos el nombre de las columnas a etiquetas más relacionadas semánticamente:"
   ]
  },
  {
   "cell_type": "code",
   "execution_count": 8,
   "metadata": {},
   "outputs": [
    {
     "data": {
      "text/html": [
       "<div>\n",
       "<style scoped>\n",
       "    .dataframe tbody tr th:only-of-type {\n",
       "        vertical-align: middle;\n",
       "    }\n",
       "\n",
       "    .dataframe tbody tr th {\n",
       "        vertical-align: top;\n",
       "    }\n",
       "\n",
       "    .dataframe thead th {\n",
       "        text-align: right;\n",
       "    }\n",
       "</style>\n",
       "<table border=\"1\" class=\"dataframe\">\n",
       "  <thead>\n",
       "    <tr style=\"text-align: right;\">\n",
       "      <th></th>\n",
       "      <th>Cuenta</th>\n",
       "      <th>Duracion</th>\n",
       "      <th>Historial</th>\n",
       "      <th>Proposito</th>\n",
       "      <th>Cantidad</th>\n",
       "      <th>Ahorros</th>\n",
       "      <th>AntiguedadLaboral</th>\n",
       "      <th>TasaPrestamo</th>\n",
       "      <th>Involucrados</th>\n",
       "      <th>AntiguedadHogar</th>\n",
       "      <th>Propiedades</th>\n",
       "      <th>Edad</th>\n",
       "      <th>OtrosPagos</th>\n",
       "      <th>NCreditos</th>\n",
       "      <th>Profesion</th>\n",
       "      <th>NDependencias</th>\n",
       "      <th>Extranjero</th>\n",
       "    </tr>\n",
       "  </thead>\n",
       "  <tbody>\n",
       "    <tr>\n",
       "      <th>0</th>\n",
       "      <td>A11</td>\n",
       "      <td>6</td>\n",
       "      <td>A34</td>\n",
       "      <td>A43</td>\n",
       "      <td>1169</td>\n",
       "      <td>A65</td>\n",
       "      <td>A75</td>\n",
       "      <td>4</td>\n",
       "      <td>A101</td>\n",
       "      <td>4</td>\n",
       "      <td>A121</td>\n",
       "      <td>67</td>\n",
       "      <td>A143</td>\n",
       "      <td>2</td>\n",
       "      <td>A173</td>\n",
       "      <td>1</td>\n",
       "      <td>A201</td>\n",
       "    </tr>\n",
       "    <tr>\n",
       "      <th>1</th>\n",
       "      <td>A12</td>\n",
       "      <td>48</td>\n",
       "      <td>A32</td>\n",
       "      <td>A43</td>\n",
       "      <td>5951</td>\n",
       "      <td>A61</td>\n",
       "      <td>A73</td>\n",
       "      <td>2</td>\n",
       "      <td>A101</td>\n",
       "      <td>2</td>\n",
       "      <td>A121</td>\n",
       "      <td>22</td>\n",
       "      <td>A143</td>\n",
       "      <td>1</td>\n",
       "      <td>A173</td>\n",
       "      <td>1</td>\n",
       "      <td>A201</td>\n",
       "    </tr>\n",
       "    <tr>\n",
       "      <th>2</th>\n",
       "      <td>A14</td>\n",
       "      <td>12</td>\n",
       "      <td>A34</td>\n",
       "      <td>A46</td>\n",
       "      <td>2096</td>\n",
       "      <td>A61</td>\n",
       "      <td>A74</td>\n",
       "      <td>2</td>\n",
       "      <td>A101</td>\n",
       "      <td>3</td>\n",
       "      <td>A121</td>\n",
       "      <td>49</td>\n",
       "      <td>A143</td>\n",
       "      <td>1</td>\n",
       "      <td>A172</td>\n",
       "      <td>2</td>\n",
       "      <td>A201</td>\n",
       "    </tr>\n",
       "    <tr>\n",
       "      <th>3</th>\n",
       "      <td>A11</td>\n",
       "      <td>42</td>\n",
       "      <td>A32</td>\n",
       "      <td>A42</td>\n",
       "      <td>7882</td>\n",
       "      <td>A61</td>\n",
       "      <td>A74</td>\n",
       "      <td>2</td>\n",
       "      <td>A103</td>\n",
       "      <td>4</td>\n",
       "      <td>A122</td>\n",
       "      <td>45</td>\n",
       "      <td>A143</td>\n",
       "      <td>1</td>\n",
       "      <td>A173</td>\n",
       "      <td>2</td>\n",
       "      <td>A201</td>\n",
       "    </tr>\n",
       "    <tr>\n",
       "      <th>4</th>\n",
       "      <td>A11</td>\n",
       "      <td>24</td>\n",
       "      <td>A33</td>\n",
       "      <td>A40</td>\n",
       "      <td>4870</td>\n",
       "      <td>A61</td>\n",
       "      <td>A73</td>\n",
       "      <td>3</td>\n",
       "      <td>A101</td>\n",
       "      <td>4</td>\n",
       "      <td>A124</td>\n",
       "      <td>53</td>\n",
       "      <td>A143</td>\n",
       "      <td>2</td>\n",
       "      <td>A173</td>\n",
       "      <td>2</td>\n",
       "      <td>A201</td>\n",
       "    </tr>\n",
       "  </tbody>\n",
       "</table>\n",
       "</div>"
      ],
      "text/plain": [
       "  Cuenta  Duracion Historial Proposito  Cantidad Ahorros AntiguedadLaboral  \\\n",
       "0    A11         6       A34       A43      1169     A65               A75   \n",
       "1    A12        48       A32       A43      5951     A61               A73   \n",
       "2    A14        12       A34       A46      2096     A61               A74   \n",
       "3    A11        42       A32       A42      7882     A61               A74   \n",
       "4    A11        24       A33       A40      4870     A61               A73   \n",
       "\n",
       "   TasaPrestamo Involucrados  AntiguedadHogar Propiedades  Edad OtrosPagos  \\\n",
       "0             4         A101                4        A121    67       A143   \n",
       "1             2         A101                2        A121    22       A143   \n",
       "2             2         A101                3        A121    49       A143   \n",
       "3             2         A103                4        A122    45       A143   \n",
       "4             3         A101                4        A124    53       A143   \n",
       "\n",
       "   NCreditos Profesion  NDependencias Extranjero  \n",
       "0          2      A173              1       A201  \n",
       "1          1      A173              1       A201  \n",
       "2          1      A172              2       A201  \n",
       "3          1      A173              2       A201  \n",
       "4          2      A173              2       A201  "
      ]
     },
     "execution_count": 8,
     "metadata": {},
     "output_type": "execute_result"
    }
   ],
   "source": [
    "X3.columns = ['Cuenta', 'Duracion', 'Historial', 'Proposito', 'Cantidad', 'Ahorros', 'AntiguedadLaboral', \n",
    "              'TasaPrestamo', 'Involucrados', 'AntiguedadHogar', 'Propiedades', 'Edad', 'OtrosPagos', \n",
    "              'NCreditos', 'Profesion', 'NDependencias', 'Extranjero']\n",
    "X3.head()"
   ]
  },
  {
   "cell_type": "markdown",
   "metadata": {},
   "source": [
    "Sabemos también que la base de datos no cuenta con valores nulos, tal y como se especifica en la descripción de los datos. No obstante, lo comprobamos."
   ]
  },
  {
   "cell_type": "code",
   "execution_count": 9,
   "metadata": {},
   "outputs": [
    {
     "data": {
      "text/plain": [
       "Cuenta               0\n",
       "Duracion             0\n",
       "Historial            0\n",
       "Proposito            0\n",
       "Cantidad             0\n",
       "Ahorros              0\n",
       "AntiguedadLaboral    0\n",
       "TasaPrestamo         0\n",
       "Involucrados         0\n",
       "AntiguedadHogar      0\n",
       "Propiedades          0\n",
       "Edad                 0\n",
       "OtrosPagos           0\n",
       "NCreditos            0\n",
       "Profesion            0\n",
       "NDependencias        0\n",
       "Extranjero           0\n",
       "dtype: int64"
      ]
     },
     "execution_count": 9,
     "metadata": {},
     "output_type": "execute_result"
    }
   ],
   "source": [
    "nulos_por_columna = pd.isnull(X3).sum()\n",
    "nulos_por_columna"
   ]
  },
  {
   "cell_type": "markdown",
   "metadata": {},
   "source": [
    "Efectivamente no hay valores nulos por lo que no es necesario imputar los datos. "
   ]
  },
  {
   "cell_type": "markdown",
   "metadata": {},
   "source": [
    "Después, debemos convertir las variables ordinales a valores numéricos. Utilizaremos OrdinalEncoder. Aprovechamos, también, a convertir a binario {0, 1} la variable 'Extranjero'."
   ]
  },
  {
   "cell_type": "code",
   "execution_count": 10,
   "metadata": {},
   "outputs": [
    {
     "data": {
      "text/html": [
       "<div>\n",
       "<style scoped>\n",
       "    .dataframe tbody tr th:only-of-type {\n",
       "        vertical-align: middle;\n",
       "    }\n",
       "\n",
       "    .dataframe tbody tr th {\n",
       "        vertical-align: top;\n",
       "    }\n",
       "\n",
       "    .dataframe thead th {\n",
       "        text-align: right;\n",
       "    }\n",
       "</style>\n",
       "<table border=\"1\" class=\"dataframe\">\n",
       "  <thead>\n",
       "    <tr style=\"text-align: right;\">\n",
       "      <th></th>\n",
       "      <th>Cuenta</th>\n",
       "      <th>Duracion</th>\n",
       "      <th>Historial</th>\n",
       "      <th>Proposito</th>\n",
       "      <th>Cantidad</th>\n",
       "      <th>Ahorros</th>\n",
       "      <th>AntiguedadLaboral</th>\n",
       "      <th>TasaPrestamo</th>\n",
       "      <th>Involucrados</th>\n",
       "      <th>AntiguedadHogar</th>\n",
       "      <th>Propiedades</th>\n",
       "      <th>Edad</th>\n",
       "      <th>OtrosPagos</th>\n",
       "      <th>NCreditos</th>\n",
       "      <th>Profesion</th>\n",
       "      <th>NDependencias</th>\n",
       "      <th>Extranjero</th>\n",
       "    </tr>\n",
       "  </thead>\n",
       "  <tbody>\n",
       "    <tr>\n",
       "      <th>0</th>\n",
       "      <td>1.0</td>\n",
       "      <td>6</td>\n",
       "      <td>0.0</td>\n",
       "      <td>A43</td>\n",
       "      <td>1169</td>\n",
       "      <td>0.0</td>\n",
       "      <td>4.0</td>\n",
       "      <td>4</td>\n",
       "      <td>A101</td>\n",
       "      <td>4</td>\n",
       "      <td>A121</td>\n",
       "      <td>67</td>\n",
       "      <td>A143</td>\n",
       "      <td>2</td>\n",
       "      <td>2.0</td>\n",
       "      <td>1</td>\n",
       "      <td>1.0</td>\n",
       "    </tr>\n",
       "    <tr>\n",
       "      <th>1</th>\n",
       "      <td>2.0</td>\n",
       "      <td>48</td>\n",
       "      <td>2.0</td>\n",
       "      <td>A43</td>\n",
       "      <td>5951</td>\n",
       "      <td>1.0</td>\n",
       "      <td>2.0</td>\n",
       "      <td>2</td>\n",
       "      <td>A101</td>\n",
       "      <td>2</td>\n",
       "      <td>A121</td>\n",
       "      <td>22</td>\n",
       "      <td>A143</td>\n",
       "      <td>1</td>\n",
       "      <td>2.0</td>\n",
       "      <td>1</td>\n",
       "      <td>1.0</td>\n",
       "    </tr>\n",
       "    <tr>\n",
       "      <th>2</th>\n",
       "      <td>0.0</td>\n",
       "      <td>12</td>\n",
       "      <td>0.0</td>\n",
       "      <td>A46</td>\n",
       "      <td>2096</td>\n",
       "      <td>1.0</td>\n",
       "      <td>3.0</td>\n",
       "      <td>2</td>\n",
       "      <td>A101</td>\n",
       "      <td>3</td>\n",
       "      <td>A121</td>\n",
       "      <td>49</td>\n",
       "      <td>A143</td>\n",
       "      <td>1</td>\n",
       "      <td>1.0</td>\n",
       "      <td>2</td>\n",
       "      <td>1.0</td>\n",
       "    </tr>\n",
       "    <tr>\n",
       "      <th>3</th>\n",
       "      <td>1.0</td>\n",
       "      <td>42</td>\n",
       "      <td>2.0</td>\n",
       "      <td>A42</td>\n",
       "      <td>7882</td>\n",
       "      <td>1.0</td>\n",
       "      <td>3.0</td>\n",
       "      <td>2</td>\n",
       "      <td>A103</td>\n",
       "      <td>4</td>\n",
       "      <td>A122</td>\n",
       "      <td>45</td>\n",
       "      <td>A143</td>\n",
       "      <td>1</td>\n",
       "      <td>2.0</td>\n",
       "      <td>2</td>\n",
       "      <td>1.0</td>\n",
       "    </tr>\n",
       "    <tr>\n",
       "      <th>4</th>\n",
       "      <td>1.0</td>\n",
       "      <td>24</td>\n",
       "      <td>1.0</td>\n",
       "      <td>A40</td>\n",
       "      <td>4870</td>\n",
       "      <td>1.0</td>\n",
       "      <td>2.0</td>\n",
       "      <td>3</td>\n",
       "      <td>A101</td>\n",
       "      <td>4</td>\n",
       "      <td>A124</td>\n",
       "      <td>53</td>\n",
       "      <td>A143</td>\n",
       "      <td>2</td>\n",
       "      <td>2.0</td>\n",
       "      <td>2</td>\n",
       "      <td>1.0</td>\n",
       "    </tr>\n",
       "  </tbody>\n",
       "</table>\n",
       "</div>"
      ],
      "text/plain": [
       "   Cuenta  Duracion  Historial Proposito  Cantidad  Ahorros  \\\n",
       "0     1.0         6        0.0       A43      1169      0.0   \n",
       "1     2.0        48        2.0       A43      5951      1.0   \n",
       "2     0.0        12        0.0       A46      2096      1.0   \n",
       "3     1.0        42        2.0       A42      7882      1.0   \n",
       "4     1.0        24        1.0       A40      4870      1.0   \n",
       "\n",
       "   AntiguedadLaboral  TasaPrestamo Involucrados  AntiguedadHogar Propiedades  \\\n",
       "0                4.0             4         A101                4        A121   \n",
       "1                2.0             2         A101                2        A121   \n",
       "2                3.0             2         A101                3        A121   \n",
       "3                3.0             2         A103                4        A122   \n",
       "4                2.0             3         A101                4        A124   \n",
       "\n",
       "   Edad OtrosPagos  NCreditos  Profesion  NDependencias  Extranjero  \n",
       "0    67       A143          2        2.0              1         1.0  \n",
       "1    22       A143          1        2.0              1         1.0  \n",
       "2    49       A143          1        1.0              2         1.0  \n",
       "3    45       A143          1        2.0              2         1.0  \n",
       "4    53       A143          2        2.0              2         1.0  "
      ]
     },
     "execution_count": 10,
     "metadata": {},
     "output_type": "execute_result"
    }
   ],
   "source": [
    "X4 = X3.copy()\n",
    "\n",
    "# Variable Cuenta: A14 < A11 < A12 < A13\n",
    "enc1 = OrdinalEncoder(categories=[['A14', 'A11', 'A12', 'A13']])\n",
    "X4['Cuenta'] = enc1.fit_transform(X4[['Cuenta']])\n",
    "\n",
    "# Variable Historial: A34 < A33 < A32 < A31 < A30\n",
    "enc2 = OrdinalEncoder(categories=[['A34', 'A33', 'A32', 'A31', 'A30']])\n",
    "X4['Historial'] = enc2.fit_transform(X4[['Historial']])\n",
    "\n",
    "# Variable Ahorros: A65 < A61 < A62 < A63 < A64\n",
    "enc3 = OrdinalEncoder(categories=[['A65', 'A61', 'A62', 'A63', 'A64']])\n",
    "X4['Ahorros'] = enc3.fit_transform(X4[['Ahorros']])\n",
    "\n",
    "# Variable AntiguedadLaboral: A71 < A72 < A73 < A74 < A75\n",
    "enc4 = OrdinalEncoder(categories=[['A71', 'A72', 'A73', 'A74', 'A75']])\n",
    "X4['AntiguedadLaboral'] = enc4.fit_transform(X4[['AntiguedadLaboral']])\n",
    "\n",
    "# Variable Profesion: A171 < A172 < A173 < A174\n",
    "enc5 = OrdinalEncoder(categories=[['A171', 'A172', 'A173', 'A174']])\n",
    "X4['Profesion'] = enc5.fit_transform(X4[['Profesion']])\n",
    "\n",
    "# Variable Extranjero: A202 < A201 [1 -> 'Si', 0 -> 'No']\n",
    "enc6 = OrdinalEncoder(categories=[['A202', 'A201']])\n",
    "X4['Extranjero'] = enc6.fit_transform(X4[['Extranjero']])\n",
    "\n",
    "X4.head()"
   ]
  },
  {
   "cell_type": "markdown",
   "metadata": {},
   "source": [
    "También debemos pasar las variables categóricas a valores numéricos. Teniendo en cuenta que tenemos 4 variables de este tipo, y que 'Propositos' tiene un número de categorías posibles demasiado alto para usar One-Hot Encoder, emplearemos esta técnica para, únicamente, 3 variables: 'Involucrados', 'Propiedades' y 'OtrosPagos'."
   ]
  },
  {
   "cell_type": "code",
   "execution_count": 11,
   "metadata": {},
   "outputs": [
    {
     "data": {
      "text/html": [
       "<div>\n",
       "<style scoped>\n",
       "    .dataframe tbody tr th:only-of-type {\n",
       "        vertical-align: middle;\n",
       "    }\n",
       "\n",
       "    .dataframe tbody tr th {\n",
       "        vertical-align: top;\n",
       "    }\n",
       "\n",
       "    .dataframe thead th {\n",
       "        text-align: right;\n",
       "    }\n",
       "</style>\n",
       "<table border=\"1\" class=\"dataframe\">\n",
       "  <thead>\n",
       "    <tr style=\"text-align: right;\">\n",
       "      <th></th>\n",
       "      <th>Involucrados_A101</th>\n",
       "      <th>Involucrados_A102</th>\n",
       "      <th>Involucrados_A103</th>\n",
       "      <th>Propiedades_A121</th>\n",
       "      <th>Propiedades_A122</th>\n",
       "      <th>Propiedades_A123</th>\n",
       "      <th>Propiedades_A124</th>\n",
       "      <th>OtrosPagos_A141</th>\n",
       "      <th>OtrosPagos_A142</th>\n",
       "      <th>OtrosPagos_A143</th>\n",
       "      <th>...</th>\n",
       "      <th>Cantidad</th>\n",
       "      <th>Ahorros</th>\n",
       "      <th>AntiguedadLaboral</th>\n",
       "      <th>TasaPrestamo</th>\n",
       "      <th>AntiguedadHogar</th>\n",
       "      <th>Edad</th>\n",
       "      <th>NCreditos</th>\n",
       "      <th>Profesion</th>\n",
       "      <th>NDependencias</th>\n",
       "      <th>Extranjero</th>\n",
       "    </tr>\n",
       "  </thead>\n",
       "  <tbody>\n",
       "    <tr>\n",
       "      <th>0</th>\n",
       "      <td>1.0</td>\n",
       "      <td>0.0</td>\n",
       "      <td>0.0</td>\n",
       "      <td>1.0</td>\n",
       "      <td>0.0</td>\n",
       "      <td>0.0</td>\n",
       "      <td>0.0</td>\n",
       "      <td>0.0</td>\n",
       "      <td>0.0</td>\n",
       "      <td>1.0</td>\n",
       "      <td>...</td>\n",
       "      <td>1169</td>\n",
       "      <td>0.0</td>\n",
       "      <td>4.0</td>\n",
       "      <td>4</td>\n",
       "      <td>4</td>\n",
       "      <td>67</td>\n",
       "      <td>2</td>\n",
       "      <td>2.0</td>\n",
       "      <td>1</td>\n",
       "      <td>1.0</td>\n",
       "    </tr>\n",
       "    <tr>\n",
       "      <th>1</th>\n",
       "      <td>1.0</td>\n",
       "      <td>0.0</td>\n",
       "      <td>0.0</td>\n",
       "      <td>1.0</td>\n",
       "      <td>0.0</td>\n",
       "      <td>0.0</td>\n",
       "      <td>0.0</td>\n",
       "      <td>0.0</td>\n",
       "      <td>0.0</td>\n",
       "      <td>1.0</td>\n",
       "      <td>...</td>\n",
       "      <td>5951</td>\n",
       "      <td>1.0</td>\n",
       "      <td>2.0</td>\n",
       "      <td>2</td>\n",
       "      <td>2</td>\n",
       "      <td>22</td>\n",
       "      <td>1</td>\n",
       "      <td>2.0</td>\n",
       "      <td>1</td>\n",
       "      <td>1.0</td>\n",
       "    </tr>\n",
       "    <tr>\n",
       "      <th>2</th>\n",
       "      <td>1.0</td>\n",
       "      <td>0.0</td>\n",
       "      <td>0.0</td>\n",
       "      <td>1.0</td>\n",
       "      <td>0.0</td>\n",
       "      <td>0.0</td>\n",
       "      <td>0.0</td>\n",
       "      <td>0.0</td>\n",
       "      <td>0.0</td>\n",
       "      <td>1.0</td>\n",
       "      <td>...</td>\n",
       "      <td>2096</td>\n",
       "      <td>1.0</td>\n",
       "      <td>3.0</td>\n",
       "      <td>2</td>\n",
       "      <td>3</td>\n",
       "      <td>49</td>\n",
       "      <td>1</td>\n",
       "      <td>1.0</td>\n",
       "      <td>2</td>\n",
       "      <td>1.0</td>\n",
       "    </tr>\n",
       "    <tr>\n",
       "      <th>3</th>\n",
       "      <td>0.0</td>\n",
       "      <td>0.0</td>\n",
       "      <td>1.0</td>\n",
       "      <td>0.0</td>\n",
       "      <td>1.0</td>\n",
       "      <td>0.0</td>\n",
       "      <td>0.0</td>\n",
       "      <td>0.0</td>\n",
       "      <td>0.0</td>\n",
       "      <td>1.0</td>\n",
       "      <td>...</td>\n",
       "      <td>7882</td>\n",
       "      <td>1.0</td>\n",
       "      <td>3.0</td>\n",
       "      <td>2</td>\n",
       "      <td>4</td>\n",
       "      <td>45</td>\n",
       "      <td>1</td>\n",
       "      <td>2.0</td>\n",
       "      <td>2</td>\n",
       "      <td>1.0</td>\n",
       "    </tr>\n",
       "    <tr>\n",
       "      <th>4</th>\n",
       "      <td>1.0</td>\n",
       "      <td>0.0</td>\n",
       "      <td>0.0</td>\n",
       "      <td>0.0</td>\n",
       "      <td>0.0</td>\n",
       "      <td>0.0</td>\n",
       "      <td>1.0</td>\n",
       "      <td>0.0</td>\n",
       "      <td>0.0</td>\n",
       "      <td>1.0</td>\n",
       "      <td>...</td>\n",
       "      <td>4870</td>\n",
       "      <td>1.0</td>\n",
       "      <td>2.0</td>\n",
       "      <td>3</td>\n",
       "      <td>4</td>\n",
       "      <td>53</td>\n",
       "      <td>2</td>\n",
       "      <td>2.0</td>\n",
       "      <td>2</td>\n",
       "      <td>1.0</td>\n",
       "    </tr>\n",
       "  </tbody>\n",
       "</table>\n",
       "<p>5 rows × 24 columns</p>\n",
       "</div>"
      ],
      "text/plain": [
       "  Involucrados_A101 Involucrados_A102 Involucrados_A103 Propiedades_A121  \\\n",
       "0               1.0               0.0               0.0              1.0   \n",
       "1               1.0               0.0               0.0              1.0   \n",
       "2               1.0               0.0               0.0              1.0   \n",
       "3               0.0               0.0               1.0              0.0   \n",
       "4               1.0               0.0               0.0              0.0   \n",
       "\n",
       "  Propiedades_A122 Propiedades_A123 Propiedades_A124 OtrosPagos_A141  \\\n",
       "0              0.0              0.0              0.0             0.0   \n",
       "1              0.0              0.0              0.0             0.0   \n",
       "2              0.0              0.0              0.0             0.0   \n",
       "3              1.0              0.0              0.0             0.0   \n",
       "4              0.0              0.0              1.0             0.0   \n",
       "\n",
       "  OtrosPagos_A142 OtrosPagos_A143  ... Cantidad Ahorros AntiguedadLaboral  \\\n",
       "0             0.0             1.0  ...     1169     0.0               4.0   \n",
       "1             0.0             1.0  ...     5951     1.0               2.0   \n",
       "2             0.0             1.0  ...     2096     1.0               3.0   \n",
       "3             0.0             1.0  ...     7882     1.0               3.0   \n",
       "4             0.0             1.0  ...     4870     1.0               2.0   \n",
       "\n",
       "  TasaPrestamo AntiguedadHogar Edad NCreditos Profesion NDependencias  \\\n",
       "0            4               4   67         2       2.0             1   \n",
       "1            2               2   22         1       2.0             1   \n",
       "2            2               3   49         1       1.0             2   \n",
       "3            2               4   45         1       2.0             2   \n",
       "4            3               4   53         2       2.0             2   \n",
       "\n",
       "  Extranjero  \n",
       "0        1.0  \n",
       "1        1.0  \n",
       "2        1.0  \n",
       "3        1.0  \n",
       "4        1.0  \n",
       "\n",
       "[5 rows x 24 columns]"
      ]
     },
     "execution_count": 11,
     "metadata": {},
     "output_type": "execute_result"
    }
   ],
   "source": [
    "X5 = X4.copy()\n",
    "\n",
    "# Definir las columnas categóricas que deseas codificar y las que deseamos dejar intactas\n",
    "categoricas_a_codificar = ['Involucrados', 'Propiedades', 'OtrosPagos']\n",
    "categorias_sin_codificar = ['Cuenta', 'Duracion', 'Historial', 'Proposito', 'Cantidad', 'Ahorros', 'AntiguedadLaboral', \n",
    "                            'TasaPrestamo', 'AntiguedadHogar', 'Edad', 'NCreditos', 'Profesion', 'NDependencias', 'Extranjero']\n",
    "\n",
    "# Definir el transformador\n",
    "transformador = ColumnTransformer(\n",
    "    transformers=[\n",
    "        ('onehot', OneHotEncoder(), categoricas_a_codificar)\n",
    "    ],\n",
    "    remainder='passthrough'  # Mantener las demás columnas sin cambios\n",
    ")\n",
    "\n",
    "# Aplicar el transformador al DataFrame\n",
    "df_transformado = transformador.fit_transform(X5)\n",
    "\n",
    "# Crear un nuevo DataFrame con las columnas transformadas y las no transformadas\n",
    "columnas_transformadas = categoricas_a_codificar + categorias_sin_codificar\n",
    "nombres_columnas = (\n",
    "    transformador.named_transformers_['onehot'].get_feature_names_out(categoricas_a_codificar).tolist() + categorias_sin_codificar\n",
    ")\n",
    "X5 = pd.DataFrame(df_transformado, columns=nombres_columnas)\n",
    "\n",
    "# Mostrar el DataFrame transformado\n",
    "X5.head()\n"
   ]
  },
  {
   "cell_type": "markdown",
   "metadata": {},
   "source": [
    "Finalmente, consideraremos la variable 'Proposito' como ordinal para facilitar su codificación. Establecemos el orden según la consideración personal a falta de un especialista a quien consultar la interpretación de los datos utilizados."
   ]
  },
  {
   "cell_type": "code",
   "execution_count": 12,
   "metadata": {},
   "outputs": [
    {
     "data": {
      "text/plain": [
       "0      2.0\n",
       "1      2.0\n",
       "2      9.0\n",
       "3      3.0\n",
       "4      5.0\n",
       "      ... \n",
       "995    3.0\n",
       "996    4.0\n",
       "997    2.0\n",
       "998    2.0\n",
       "999    4.0\n",
       "Name: Proposito, Length: 1000, dtype: float64"
      ]
     },
     "execution_count": 12,
     "metadata": {},
     "output_type": "execute_result"
    }
   ],
   "source": [
    "X6 = X5.copy()\n",
    "\n",
    "# Variable Proposito: A410 < A47 < A43 < A42 < A41 < A40 < A44 < A48 < A45 < A46 < A49\n",
    "enc7 = OrdinalEncoder(categories=[['A410', 'A47', 'A43', 'A42', 'A41', 'A40', 'A44', 'A48', 'A45', 'A46', 'A49']])\n",
    "X6['Proposito'] = enc7.fit_transform(X6[['Proposito']])\n",
    "\n",
    "X6['Proposito']"
   ]
  },
  {
   "cell_type": "markdown",
   "metadata": {},
   "source": [
    "Después, con el objetivo de detectar posibles valores atípicos, representamos los Box-Plots de las variables numéricas:"
   ]
  },
  {
   "cell_type": "code",
   "execution_count": 13,
   "metadata": {},
   "outputs": [
    {
     "data": {
      "image/png": "[encoded data removed]",
      "text/plain": [
       "<Figure size 3000x1000 with 8 Axes>"
      ]
     },
     "metadata": {},
     "output_type": "display_data"
    }
   ],
   "source": [
    "X6 = X6.astype('float64')\n",
    "X7 = X6[['Duracion', 'Cantidad', 'TasaPrestamo', 'AntiguedadHogar', 'Edad', 'NCreditos', 'NDependencias']]\n",
    "\n",
    "fig, axes = plt.subplots(nrows=2, ncols=4, figsize=(30, 10), sharey=True)\n",
    "\n",
    "# Aplanar la matriz de subplots para facilitar el acceso\n",
    "axes = axes.flatten()\n",
    "\n",
    "# Iterar a través de las variables y dibujar boxplots\n",
    "for i, columna in enumerate(X7.columns):\n",
    "    sns.boxplot(x=X7[columna], ax=axes[i])\n",
    "    axes[i].set_title(columna)  # Agregar el nombre de la variable como título\n",
    "\n",
    "# Ajustar el espaciado entre subplots\n",
    "plt.tight_layout()\n",
    "\n",
    "# Mostrar los boxplots\n",
    "plt.show()\n"
   ]
  },
  {
   "cell_type": "markdown",
   "metadata": {},
   "source": [
    "Podemos ver que las variables que más datos atípicos tienen son aquellas cuyas escalas son considerablemente mayores que el resto de variables. Para evitar que éstas tengan un peso mayor al procesar los datos, decidimos escalarlas, utilizando en este caso MinMaxScaler()."
   ]
  },
  {
   "cell_type": "code",
   "execution_count": 14,
   "metadata": {},
   "outputs": [
    {
     "data": {
      "text/html": [
       "<div>\n",
       "<style scoped>\n",
       "    .dataframe tbody tr th:only-of-type {\n",
       "        vertical-align: middle;\n",
       "    }\n",
       "\n",
       "    .dataframe tbody tr th {\n",
       "        vertical-align: top;\n",
       "    }\n",
       "\n",
       "    .dataframe thead th {\n",
       "        text-align: right;\n",
       "    }\n",
       "</style>\n",
       "<table border=\"1\" class=\"dataframe\">\n",
       "  <thead>\n",
       "    <tr style=\"text-align: right;\">\n",
       "      <th></th>\n",
       "      <th>Involucrados_A101</th>\n",
       "      <th>Involucrados_A102</th>\n",
       "      <th>Involucrados_A103</th>\n",
       "      <th>Propiedades_A121</th>\n",
       "      <th>Propiedades_A122</th>\n",
       "      <th>Propiedades_A123</th>\n",
       "      <th>Propiedades_A124</th>\n",
       "      <th>OtrosPagos_A141</th>\n",
       "      <th>OtrosPagos_A142</th>\n",
       "      <th>OtrosPagos_A143</th>\n",
       "      <th>...</th>\n",
       "      <th>Cantidad</th>\n",
       "      <th>Ahorros</th>\n",
       "      <th>AntiguedadLaboral</th>\n",
       "      <th>TasaPrestamo</th>\n",
       "      <th>AntiguedadHogar</th>\n",
       "      <th>Edad</th>\n",
       "      <th>NCreditos</th>\n",
       "      <th>Profesion</th>\n",
       "      <th>NDependencias</th>\n",
       "      <th>Extranjero</th>\n",
       "    </tr>\n",
       "  </thead>\n",
       "  <tbody>\n",
       "    <tr>\n",
       "      <th>0</th>\n",
       "      <td>1.0</td>\n",
       "      <td>0.0</td>\n",
       "      <td>0.0</td>\n",
       "      <td>1.0</td>\n",
       "      <td>0.0</td>\n",
       "      <td>0.0</td>\n",
       "      <td>0.0</td>\n",
       "      <td>0.0</td>\n",
       "      <td>0.0</td>\n",
       "      <td>1.0</td>\n",
       "      <td>...</td>\n",
       "      <td>0.050567</td>\n",
       "      <td>0.0</td>\n",
       "      <td>4.0</td>\n",
       "      <td>4.0</td>\n",
       "      <td>4.0</td>\n",
       "      <td>0.857143</td>\n",
       "      <td>2.0</td>\n",
       "      <td>2.0</td>\n",
       "      <td>1.0</td>\n",
       "      <td>1.0</td>\n",
       "    </tr>\n",
       "    <tr>\n",
       "      <th>1</th>\n",
       "      <td>1.0</td>\n",
       "      <td>0.0</td>\n",
       "      <td>0.0</td>\n",
       "      <td>1.0</td>\n",
       "      <td>0.0</td>\n",
       "      <td>0.0</td>\n",
       "      <td>0.0</td>\n",
       "      <td>0.0</td>\n",
       "      <td>0.0</td>\n",
       "      <td>1.0</td>\n",
       "      <td>...</td>\n",
       "      <td>0.313690</td>\n",
       "      <td>1.0</td>\n",
       "      <td>2.0</td>\n",
       "      <td>2.0</td>\n",
       "      <td>2.0</td>\n",
       "      <td>0.053571</td>\n",
       "      <td>1.0</td>\n",
       "      <td>2.0</td>\n",
       "      <td>1.0</td>\n",
       "      <td>1.0</td>\n",
       "    </tr>\n",
       "    <tr>\n",
       "      <th>2</th>\n",
       "      <td>1.0</td>\n",
       "      <td>0.0</td>\n",
       "      <td>0.0</td>\n",
       "      <td>1.0</td>\n",
       "      <td>0.0</td>\n",
       "      <td>0.0</td>\n",
       "      <td>0.0</td>\n",
       "      <td>0.0</td>\n",
       "      <td>0.0</td>\n",
       "      <td>1.0</td>\n",
       "      <td>...</td>\n",
       "      <td>0.101574</td>\n",
       "      <td>1.0</td>\n",
       "      <td>3.0</td>\n",
       "      <td>2.0</td>\n",
       "      <td>3.0</td>\n",
       "      <td>0.535714</td>\n",
       "      <td>1.0</td>\n",
       "      <td>1.0</td>\n",
       "      <td>2.0</td>\n",
       "      <td>1.0</td>\n",
       "    </tr>\n",
       "    <tr>\n",
       "      <th>3</th>\n",
       "      <td>0.0</td>\n",
       "      <td>0.0</td>\n",
       "      <td>1.0</td>\n",
       "      <td>0.0</td>\n",
       "      <td>1.0</td>\n",
       "      <td>0.0</td>\n",
       "      <td>0.0</td>\n",
       "      <td>0.0</td>\n",
       "      <td>0.0</td>\n",
       "      <td>1.0</td>\n",
       "      <td>...</td>\n",
       "      <td>0.419941</td>\n",
       "      <td>1.0</td>\n",
       "      <td>3.0</td>\n",
       "      <td>2.0</td>\n",
       "      <td>4.0</td>\n",
       "      <td>0.464286</td>\n",
       "      <td>1.0</td>\n",
       "      <td>2.0</td>\n",
       "      <td>2.0</td>\n",
       "      <td>1.0</td>\n",
       "    </tr>\n",
       "    <tr>\n",
       "      <th>4</th>\n",
       "      <td>1.0</td>\n",
       "      <td>0.0</td>\n",
       "      <td>0.0</td>\n",
       "      <td>0.0</td>\n",
       "      <td>0.0</td>\n",
       "      <td>0.0</td>\n",
       "      <td>1.0</td>\n",
       "      <td>0.0</td>\n",
       "      <td>0.0</td>\n",
       "      <td>1.0</td>\n",
       "      <td>...</td>\n",
       "      <td>0.254209</td>\n",
       "      <td>1.0</td>\n",
       "      <td>2.0</td>\n",
       "      <td>3.0</td>\n",
       "      <td>4.0</td>\n",
       "      <td>0.607143</td>\n",
       "      <td>2.0</td>\n",
       "      <td>2.0</td>\n",
       "      <td>2.0</td>\n",
       "      <td>1.0</td>\n",
       "    </tr>\n",
       "  </tbody>\n",
       "</table>\n",
       "<p>5 rows × 24 columns</p>\n",
       "</div>"
      ],
      "text/plain": [
       "   Involucrados_A101  Involucrados_A102  Involucrados_A103  Propiedades_A121  \\\n",
       "0                1.0                0.0                0.0               1.0   \n",
       "1                1.0                0.0                0.0               1.0   \n",
       "2                1.0                0.0                0.0               1.0   \n",
       "3                0.0                0.0                1.0               0.0   \n",
       "4                1.0                0.0                0.0               0.0   \n",
       "\n",
       "   Propiedades_A122  Propiedades_A123  Propiedades_A124  OtrosPagos_A141  \\\n",
       "0               0.0               0.0               0.0              0.0   \n",
       "1               0.0               0.0               0.0              0.0   \n",
       "2               0.0               0.0               0.0              0.0   \n",
       "3               1.0               0.0               0.0              0.0   \n",
       "4               0.0               0.0               1.0              0.0   \n",
       "\n",
       "   OtrosPagos_A142  OtrosPagos_A143  ...  Cantidad  Ahorros  \\\n",
       "0              0.0              1.0  ...  0.050567      0.0   \n",
       "1              0.0              1.0  ...  0.313690      1.0   \n",
       "2              0.0              1.0  ...  0.101574      1.0   \n",
       "3              0.0              1.0  ...  0.419941      1.0   \n",
       "4              0.0              1.0  ...  0.254209      1.0   \n",
       "\n",
       "   AntiguedadLaboral  TasaPrestamo  AntiguedadHogar      Edad  NCreditos  \\\n",
       "0                4.0           4.0              4.0  0.857143        2.0   \n",
       "1                2.0           2.0              2.0  0.053571        1.0   \n",
       "2                3.0           2.0              3.0  0.535714        1.0   \n",
       "3                3.0           2.0              4.0  0.464286        1.0   \n",
       "4                2.0           3.0              4.0  0.607143        2.0   \n",
       "\n",
       "   Profesion  NDependencias  Extranjero  \n",
       "0        2.0            1.0         1.0  \n",
       "1        2.0            1.0         1.0  \n",
       "2        1.0            2.0         1.0  \n",
       "3        2.0            2.0         1.0  \n",
       "4        2.0            2.0         1.0  \n",
       "\n",
       "[5 rows x 24 columns]"
      ]
     },
     "execution_count": 14,
     "metadata": {},
     "output_type": "execute_result"
    }
   ],
   "source": [
    "X7 = X6.copy()\n",
    "columnas_a_escalar = ['Duracion', 'Cantidad', 'Edad']\n",
    "scaler = MinMaxScaler()\n",
    "\n",
    "# Escalar solo las columnas seleccionadas\n",
    "X7[columnas_a_escalar] = scaler.fit_transform(X7[columnas_a_escalar])\n",
    "\n",
    "# Mostrar el DataFrame con las columnas escaladas\n",
    "X7.head()"
   ]
  },
  {
   "cell_type": "markdown",
   "metadata": {},
   "source": [
    "Tenemos, entonces, los datos listos para ser procesados."
   ]
  },
  {
   "cell_type": "code",
   "execution_count": 15,
   "metadata": {},
   "outputs": [],
   "source": [
    "X = X7"
   ]
  },
  {
   "cell_type": "markdown",
   "metadata": {},
   "source": [
    "## ESTUDIO DE LOS DATOS"
   ]
  },
  {
   "cell_type": "markdown",
   "metadata": {},
   "source": [
    "No obstante, antes de comenzar el proceso de modelado, sería interesante comprobar el balance del conjunto de datos:"
   ]
  },
  {
   "cell_type": "code",
   "execution_count": 16,
   "metadata": {},
   "outputs": [
    {
     "data": {
      "image/png": "[encoded data removed]",
      "text/plain": [
       "<Figure size 640x480 with 1 Axes>"
      ]
     },
     "metadata": {},
     "output_type": "display_data"
    }
   ],
   "source": [
    "sns.countplot(data=y, x='class')\n",
    "plt.show()"
   ]
  },
  {
   "cell_type": "markdown",
   "metadata": {},
   "source": [
    "Como podemos observar se nos plantea un problema de clases desbalanceadas, al haber 700 instancias clasificadas como 'Aptos' frente a las 200 clasificadas como 'No Aptas'. Al tratarse de una diferencia considerable nuestros modelos podrían quedar sesgados a favor de la clase dominante. Para solucionarlo, tendremos que llevar a cabo técnicas como el ajuste de datos, en aquellos algoritmos que lo permitan. "
   ]
  },
  {
   "cell_type": "markdown",
   "metadata": {},
   "source": [
    "Además, tenemos concretamente que el 70% de los datos pertenecen a la clase 1 y que el 30% de los datos pertenecen a la clase 2. Por ello sabemos que partimos de una precisión base de 0.7 ya que, si clasificáramos todas las instancias como 'Apto' tendríamos una precisión del 70%. Si nuestros modelos no pueden superar esa precisión realmente no nos estarán proporcionando ninguna información útil en la predicción. "
   ]
  },
  {
   "cell_type": "markdown",
   "metadata": {},
   "source": [
    "Por otra parte, estudiaremos ahora los criterios de evaluación y la información que nos proporcionan en nuestro caso de estudio concreto."
   ]
  },
  {
   "cell_type": "markdown",
   "metadata": {},
   "source": [
    "- **Precisión**: esta medida determina la proporción de instancias que, clasificadas como positivas, son correctas. En nuestro caso esta métrica es importante ya que si la precisión es pequeña, significa que hay muchos falsos positivos, es decir, mucha gente que no es apta pero se le clasifica de forma que pueda obtener el préstamo. Esto, en relación a la economía del banco, puede llegar a suponer grandes pérdidas por lo que se trata de una métrica muy importante a tener en cuenta.\n",
    "\n",
    "- **Recall/Recuperación**: esta medida determina la proporción de valores positivos clasificados correctamente. En nuestro caso esta métrica es importante a la hora de atender a los casos donde se clasifica a un potencial cliente como 'No Apto'. Esto puede ser importante si tenemos en cuenta la pérdida de oportunidad para el prestamista.\n",
    "\n",
    "- **F1-score**: esta métrica combina la precisión y la recuperación. Útil si queremos buscar un equilibrio entre ambas métricas. \n",
    "\n",
    "- **Exactitud/Accuracy**: esta medida detemrina la proporción de valores clasificados correctamente, sean positivos o negativos. Mide el rendimiento del modelo y es la métrica en la que nos fijaremos para compararla con la precisión base antes explicada. \n",
    "\n",
    "- **Macro avg (Promedio Macro)**: nos proporciona la media de todas las métricas por clase, dando la misma importancia a ambas, sin tener en cuenta el desbalance. En nuestro caso, al tener los datos tan desproporcionados, no nos aporta demasiada información real sobre el rendimiento del modelo. \n",
    "\n",
    "- **Weighted avg (Promedio Ponderado)**: es útil cuando hay un desequilibrio entre las clases por lo que, en nuestro caso, refleja mejor el rendimiento general del modelo en todo el conjunto de datos.\n",
    "\n",
    "- **Validación Cruzada Estratificada**: esta métrica evalúa el rendimiento general de un modelo, dividiendo los datos en subconjuntos y utilizándolos para entrenar el modelo en una parte y evaluarlo en otra, repitiendo el proceso varias veces y obteniendo la media de los resultados. Concretamente la Validación Cruzada K-Fold divide los datos en K conjuntos (folds) y entrena el modelo K veces, utilizando cada pliegue como conjunto de prueba una única vez. Se asegura que la proporción de clases en cada capa sea similar a la de los datos originales por lo que nos es útil en nuestros datos, con distribución desequilibrada. "
   ]
  },
  {
   "cell_type": "markdown",
   "metadata": {},
   "source": [
    "## SEPARACIÓN DEL MODELO EN ENTRENAMIENTO/TEST"
   ]
  },
  {
   "cell_type": "markdown",
   "metadata": {},
   "source": [
    "Establecemos una semilla para poder garantizar la reproducción de la separación obtenida y convertimos los DF obtenidos en arrays numéricos."
   ]
  },
  {
   "cell_type": "code",
   "execution_count": 17,
   "metadata": {},
   "outputs": [],
   "source": [
    "XTrain, XTest, yTrain, yTest = train_test_split(X, y, test_size=0.20, random_state=42)\n",
    "\n",
    "XTrain = XTrain.values\n",
    "XTest = XTest.values\n",
    "yTrain = yTrain.values.ravel()\n",
    "yTest = yTest.values"
   ]
  },
  {
   "cell_type": "markdown",
   "metadata": {},
   "source": [
    "Crearemos también una instancia StratifiedKFold, con 10 particiones en concreto, para hallar la mejor combinación de parámetros en cada modelo. "
   ]
  },
  {
   "cell_type": "code",
   "execution_count": 18,
   "metadata": {},
   "outputs": [],
   "source": [
    "skf = StratifiedKFold(n_splits=10, shuffle=True, random_state=42)"
   ]
  },
  {
   "cell_type": "markdown",
   "metadata": {},
   "source": [
    "## MODELOS"
   ]
  },
  {
   "cell_type": "markdown",
   "metadata": {},
   "source": [
    "### MODELO 1: K-NN"
   ]
  },
  {
   "cell_type": "markdown",
   "metadata": {},
   "source": [
    "Para el primer modelo utilizaremos el algoritmo K-NN. Este consiste en representar el número de vecinos más cercanos que se debe considerar al realizar una predicción. Para cada punto se calculan aquellos vecinos que estén más cerca, según las distancias entre puntos obtenidas, asignándole la etiqueta de clasificación más común entre dichos vecinos. "
   ]
  },
  {
   "cell_type": "markdown",
   "metadata": {},
   "source": [
    "Para buscar el mejor modelo primero tenemos que establecer un rango para los distintos K a estudiar, en nuestro caso, desde 1 hasta 21.  "
   ]
  },
  {
   "cell_type": "code",
   "execution_count": 19,
   "metadata": {},
   "outputs": [],
   "source": [
    "k_range = list(range(1, 21))\n",
    "param_grid = {'n_neighbors': k_range}"
   ]
  },
  {
   "cell_type": "markdown",
   "metadata": {},
   "source": [
    "Ahora, utilizaremos Validación Cruzada Estratificada para hallar el mejor modelo posible. En general utilizaremos para todos los modelos la métrica objetivo por defecto, 'accuracy'."
   ]
  },
  {
   "cell_type": "code",
   "execution_count": 20,
   "metadata": {},
   "outputs": [],
   "source": [
    "clf_KNN = GridSearchCV(KNeighborsClassifier(metric='euclidean'), param_grid, cv=skf, scoring='accuracy')\n",
    "clf_KNN.fit(XTrain,yTrain)\n",
    "k = clf_KNN.best_params_['n_neighbors']"
   ]
  },
  {
   "cell_type": "markdown",
   "metadata": {},
   "source": [
    "Una vez encontrado el mejor valor de K volvemos a crear el clasificador con dicho parámetro, lo entrenamos y realizamos las predicciones"
   ]
  },
  {
   "cell_type": "code",
   "execution_count": 21,
   "metadata": {},
   "outputs": [
    {
     "name": "stdout",
     "output_type": "stream",
     "text": [
      "Best estimator found by grid search:  KNeighborsClassifier(metric='euclidean', n_neighbors=16)\n"
     ]
    }
   ],
   "source": [
    "model_KNN = KNeighborsClassifier (n_neighbors = k, metric='euclidean')\n",
    "model_KNN.fit(XTrain, yTrain)\n",
    "yhatTrain = model_KNN.predict(XTrain)\n",
    "yhatTest = model_KNN.predict(XTest)\n",
    "print(\"Best estimator found by grid search: \", model_KNN)"
   ]
  },
  {
   "cell_type": "markdown",
   "metadata": {},
   "source": [
    "Finalmente estudiamos las métricas de evaluación del modelo obtenido:"
   ]
  },
  {
   "cell_type": "code",
   "execution_count": 22,
   "metadata": {},
   "outputs": [
    {
     "name": "stdout",
     "output_type": "stream",
     "text": [
      "CV-Validation Accuracy 0.73\n"
     ]
    }
   ],
   "source": [
    "# Cross Validation Score.\n",
    "CV_KNN = clf_KNN.best_score_\n",
    "print('CV-Validation Accuracy', CV_KNN)"
   ]
  },
  {
   "cell_type": "code",
   "execution_count": 23,
   "metadata": {},
   "outputs": [
    {
     "name": "stdout",
     "output_type": "stream",
     "text": [
      "Datos de Entrenamiento: \n",
      "\n",
      "Train Accuracy:  0.75125\n",
      "Train Precision:  0.7623906705539358\n",
      "Train Recall:  0.9355992844364938\n",
      "Train F1:  0.8401606425702811\n",
      "\n",
      "For a K:16 Train Error:  0.24875\n",
      "For a K:16 Train Error Std:  0.43228860440682454\n",
      "\n",
      "----------------Train Confusion Matrix------------------\n",
      "[[523  36]\n",
      " [163  78]]\n",
      "\n",
      "              precision    recall  f1-score   support\n",
      "\n",
      "           1       0.76      0.94      0.84       559\n",
      "           2       0.68      0.32      0.44       241\n",
      "\n",
      "    accuracy                           0.75       800\n",
      "   macro avg       0.72      0.63      0.64       800\n",
      "weighted avg       0.74      0.75      0.72       800\n",
      "\n"
     ]
    }
   ],
   "source": [
    "Train_Accuracy_KNN = metrics.accuracy_score(yTrain, yhatTrain)\n",
    "Train_Precision_KNN = metrics.precision_score(yTrain, yhatTrain)\n",
    "Train_Recall_KNN = metrics.recall_score(yTrain, yhatTrain)\n",
    "Train_F1_KNN = metrics.f1_score(yTrain, yhatTrain)\n",
    "Train_Error_KNN = np.mean(yhatTrain != yTrain)\n",
    "Train_std_Error_KNN = np.std(yhatTrain != yTrain)\n",
    "\n",
    "# Métricas del rendimiento del modelo utilizando sklearn.metrics package\n",
    "print('Datos de Entrenamiento: ')\n",
    "print()\n",
    "print(\"Train Accuracy: \", Train_Accuracy_KNN)\n",
    "print(\"Train Precision: \", Train_Precision_KNN)\n",
    "print(\"Train Recall: \", Train_Recall_KNN)\n",
    "print(\"Train F1: \", Train_F1_KNN)\n",
    "print()\n",
    "\n",
    "# Error de entrenamiendo medio y desviación típica.\n",
    "print('For a K:' + str(k) + ' Train Error: ', Train_Error_KNN)\n",
    "print('For a K:' + str(k) + ' Train Error Std: ', Train_std_Error_KNN)\n",
    "print()\n",
    "\n",
    "# Matriz de Confusión del conjunto de entrenamiento.\n",
    "print('----------------Train Confusion Matrix------------------')\n",
    "print(confusion_matrix(yTrain,yhatTrain))\n",
    "print()\n",
    "print(classification_report(yTrain,yhatTrain))"
   ]
  },
  {
   "cell_type": "code",
   "execution_count": 24,
   "metadata": {},
   "outputs": [
    {
     "name": "stdout",
     "output_type": "stream",
     "text": [
      "Datos de Test: \n",
      "\n",
      "Test Accuracy:  0.71\n",
      "Test Precision:  0.7344632768361582\n",
      "Test Recall:  0.9219858156028369\n",
      "Test F1:  0.8176100628930818\n",
      "\n",
      "For a K:16 Test Error:  0.34215\n",
      "For a K:16 Test Error Std:  0.4744295284865815\n",
      "\n",
      "----------------Test Confusion Matrix------------------\n",
      "[[130  11]\n",
      " [ 47  12]]\n",
      "\n",
      "              precision    recall  f1-score   support\n",
      "\n",
      "           1       0.73      0.92      0.82       141\n",
      "           2       0.52      0.20      0.29        59\n",
      "\n",
      "    accuracy                           0.71       200\n",
      "   macro avg       0.63      0.56      0.56       200\n",
      "weighted avg       0.67      0.71      0.66       200\n",
      "\n"
     ]
    }
   ],
   "source": [
    "Test_Accuracy_KNN = metrics.accuracy_score(yTest, yhatTest)\n",
    "Test_Precision_KNN = metrics.precision_score(yTest, yhatTest)\n",
    "Test_Recall_KNN = metrics.recall_score(yTest, yhatTest)\n",
    "Test_F1_KNN = metrics.f1_score(yTest, yhatTest)\n",
    "Test_Error_KNN = np.mean(yhatTest != yTest)\n",
    "Test_std_Error_KNN = np.std(yhatTest != yTest)\n",
    "\n",
    "# Métricas del rendimiento del modelo utilizando sklearn.metrics package\n",
    "print('Datos de Test: ')\n",
    "print()\n",
    "print(\"Test Accuracy: \", Test_Accuracy_KNN)\n",
    "print(\"Test Precision: \", Test_Precision_KNN)\n",
    "print(\"Test Recall: \", Test_Recall_KNN)\n",
    "print(\"Test F1: \", Test_F1_KNN)\n",
    "print()\n",
    "\n",
    "# Error de test medio y desviación típica.\n",
    "print('For a K:' + str(k) + ' Test Error: ', Test_Error_KNN)\n",
    "print('For a K:' + str(k) + ' Test Error Std: ', Test_std_Error_KNN)\n",
    "print()\n",
    "\n",
    "# Matriz de Confusión del conjunto de test.\n",
    "print('----------------Test Confusion Matrix------------------')\n",
    "print(confusion_matrix(yTest,yhatTest))\n",
    "print()\n",
    "print(classification_report(yTest,yhatTest))"
   ]
  },
  {
   "cell_type": "markdown",
   "metadata": {},
   "source": [
    "Agrupamos y resumimos estos datos en una sola tabla:"
   ]
  },
  {
   "cell_type": "code",
   "execution_count": 25,
   "metadata": {},
   "outputs": [
    {
     "data": {
      "text/html": [
       "<div>\n",
       "<style scoped>\n",
       "    .dataframe tbody tr th:only-of-type {\n",
       "        vertical-align: middle;\n",
       "    }\n",
       "\n",
       "    .dataframe tbody tr th {\n",
       "        vertical-align: top;\n",
       "    }\n",
       "\n",
       "    .dataframe thead th {\n",
       "        text-align: right;\n",
       "    }\n",
       "</style>\n",
       "<table border=\"1\" class=\"dataframe\">\n",
       "  <thead>\n",
       "    <tr style=\"text-align: right;\">\n",
       "      <th></th>\n",
       "      <th>Data</th>\n",
       "      <th>Accuracy</th>\n",
       "      <th>Precision</th>\n",
       "      <th>Recall</th>\n",
       "      <th>F1</th>\n",
       "      <th>Error</th>\n",
       "      <th>Std Error</th>\n",
       "    </tr>\n",
       "  </thead>\n",
       "  <tbody>\n",
       "    <tr>\n",
       "      <th>0</th>\n",
       "      <td>Train</td>\n",
       "      <td>0.75</td>\n",
       "      <td>0.76</td>\n",
       "      <td>0.94</td>\n",
       "      <td>0.84</td>\n",
       "      <td>0.25</td>\n",
       "      <td>0.43</td>\n",
       "    </tr>\n",
       "    <tr>\n",
       "      <th>1</th>\n",
       "      <td>Test</td>\n",
       "      <td>0.71</td>\n",
       "      <td>0.73</td>\n",
       "      <td>0.92</td>\n",
       "      <td>0.82</td>\n",
       "      <td>0.34</td>\n",
       "      <td>0.47</td>\n",
       "    </tr>\n",
       "  </tbody>\n",
       "</table>\n",
       "</div>"
      ],
      "text/plain": [
       "    Data  Accuracy  Precision  Recall    F1  Error  Std Error\n",
       "0  Train      0.75       0.76    0.94  0.84   0.25       0.43\n",
       "1   Test      0.71       0.73    0.92  0.82   0.34       0.47"
      ]
     },
     "execution_count": 25,
     "metadata": {},
     "output_type": "execute_result"
    }
   ],
   "source": [
    "KNN_data = {\n",
    "    'Data': ['Train', 'Test'],\n",
    "    'Accuracy': [Train_Accuracy_KNN, Test_Accuracy_KNN],\n",
    "    'Precision': [Train_Precision_KNN, Test_Precision_KNN],\n",
    "    'Recall': [Train_Recall_KNN, Test_Recall_KNN],\n",
    "    'F1': [Train_F1_KNN, Test_F1_KNN],\n",
    "    'Error': [Train_Error_KNN, Test_Error_KNN],\n",
    "    'Std Error': [Train_std_Error_KNN, Test_std_Error_KNN]\n",
    "}\n",
    "KNN_df = pd.DataFrame(KNN_data).round(2)\n",
    "KNN_df"
   ]
  },
  {
   "cell_type": "markdown",
   "metadata": {},
   "source": [
    "### MODELO 2: ÁRBOLES DE DECISIÓN"
   ]
  },
  {
   "cell_type": "markdown",
   "metadata": {},
   "source": [
    "Para el segundo modelo utilizaremos la técnica de Árboles de Decisión. Este algoritmo divide los datos en una estructura jerárquica donde los datos se agrupan en subconjuntos en base a sus características. Cada nodo representa una pregunta sobre una característica en concreto y las ramas presentan las posibles respuestas. Al final, las hojas del árbol representan las predicciones del modelo. "
   ]
  },
  {
   "cell_type": "markdown",
   "metadata": {},
   "source": [
    "En este caso utilizaremos, de nuevo, Validación Cruzada Estratificada para tratar de obtener el mejor modelo. Establecemos entonces el rango de cada parámetro con los valores que queremos contrastar. Como en nuestros datos hay un desbalance considerable sabemos que nuestro modelo puede tender al sobreajuste. Por eso estudiamos un rango para la métrica 'max_depth' con valores relativamente pequeños y establecemos la posibilidad de un 'ccp_alpha' distinto de 0 para aplicar una poda al árbol. "
   ]
  },
  {
   "cell_type": "code",
   "execution_count": 26,
   "metadata": {},
   "outputs": [],
   "source": [
    "param_grid = {\n",
    "    'min_samples_leaf': [5,10],\n",
    "    'min_samples_split':[5, 10, 20],\n",
    "    'max_depth': np.arange(2,11),\n",
    "    'criterion': ['entropy', 'gini'],\n",
    "    'ccp_alpha': [0, 0.01, 0.02, 0.05]\n",
    "}"
   ]
  },
  {
   "cell_type": "markdown",
   "metadata": {},
   "source": [
    "Ahora, creamos la instancia de GridSearchCV para el modelo de DecisionTreeClassifier(), lo entrenamos y vemos los mejores valores obtenidos para los parámetros. "
   ]
  },
  {
   "cell_type": "code",
   "execution_count": 27,
   "metadata": {},
   "outputs": [
    {
     "name": "stdout",
     "output_type": "stream",
     "text": [
      "Best estimator found by grid search:  DecisionTreeClassifier(ccp_alpha=0, max_depth=6, min_samples_leaf=5,\n",
      "                       min_samples_split=20, random_state=42)\n"
     ]
    }
   ],
   "source": [
    "clf_ADD = GridSearchCV(DecisionTreeClassifier(random_state=42), param_grid, cv=skf)\n",
    "clf_ADD.fit(XTrain , yTrain)\n",
    "\n",
    "model_ADD = clf_ADD.best_estimator_\n",
    "print(\"Best estimator found by grid search: \", model_ADD)"
   ]
  },
  {
   "cell_type": "markdown",
   "metadata": {},
   "source": [
    "Una vez hecho esto, calculamos la precisión obtenida en Validación Cruzada durante la etapa de entrenamiento. "
   ]
  },
  {
   "cell_type": "code",
   "execution_count": 28,
   "metadata": {},
   "outputs": [
    {
     "name": "stdout",
     "output_type": "stream",
     "text": [
      "CV-Validation Accuracy:  0.72\n"
     ]
    }
   ],
   "source": [
    "print(\"CV-Validation Accuracy: \", clf_ADD.best_score_)"
   ]
  },
  {
   "cell_type": "markdown",
   "metadata": {},
   "source": [
    "Podemos observar que hemos obtenido un valor óptimo ccp_alpha = 0, es decir, no se aplica poda al árbol. Como el método GridSearchCV se ajusta únicamente a los datos de entrenamiento, para comprobar si tenemos un modelo sobreajustado comprobamos las predicciónes de entrenamiento y test y sus correspondientes precisiones."
   ]
  },
  {
   "cell_type": "code",
   "execution_count": 29,
   "metadata": {},
   "outputs": [
    {
     "name": "stdout",
     "output_type": "stream",
     "text": [
      "The train accuracy is: 0.8025\n",
      "The test accuracy is: 0.745\n"
     ]
    }
   ],
   "source": [
    "yhatTrain = clf_ADD.predict(XTrain)\n",
    "contTrain = 0\n",
    "for i in range(0,len(yTrain),1) :\n",
    "    if (yhatTrain[i] == yTrain[i]):\n",
    "        contTrain = contTrain + 1\n",
    "print('The train accuracy is: ' + str(contTrain/len(yTrain)))\n",
    "\n",
    "yhatTest = clf_ADD.predict(XTest)\n",
    "contTest = 0\n",
    "for i in range(0,len(yTest),1) :\n",
    "    if (yhatTest[i] == yTest[i]):\n",
    "        contTest = contTest + 1\n",
    "print('The test accuracy is: ' + str(contTest/len(yTest)))"
   ]
  },
  {
   "cell_type": "markdown",
   "metadata": {},
   "source": [
    "Efectivamente la precisión de entrenamiento es mayor que la precisión de test. Entonces, pese a que en el test de Validación Cruzada se establece que el valor óptimo de ccp_alpha es 0, debemos aplicar una poda al árbol para tratar de equilibrarlo. Para ello realizamos un estudio aparte para ver qué valor es mejor para esta métrica. "
   ]
  },
  {
   "cell_type": "markdown",
   "metadata": {},
   "source": [
    "Primero determinaremos un conjunto de posibles alfas. "
   ]
  },
  {
   "cell_type": "code",
   "execution_count": 30,
   "metadata": {},
   "outputs": [
    {
     "name": "stdout",
     "output_type": "stream",
     "text": [
      "[0.         0.00020759 0.00029167 0.00029762 0.00038095 0.00057143\n",
      " 0.00067742 0.00090237 0.00090963 0.00174273 0.00190476 0.00214506\n",
      " 0.00248016 0.00252622 0.00296    0.00309556 0.00338527 0.00366231\n",
      " 0.00417946 0.00630878 0.00631501 0.00650611 0.00710581 0.01078639\n",
      " 0.01251503 0.03827972]\n"
     ]
    }
   ],
   "source": [
    "path = clf_ADD.best_estimator_.cost_complexity_pruning_path(XTrain, yTrain)\n",
    "ccp_alphas, impurities = path.ccp_alphas, path.impurities\n",
    "print(ccp_alphas)"
   ]
  },
  {
   "cell_type": "markdown",
   "metadata": {},
   "source": [
    "Ahora por cada alfa creamos un modelo. Descartamos el último elemento ya que es el árbol trivial, con un solo nodo. "
   ]
  },
  {
   "cell_type": "code",
   "execution_count": 31,
   "metadata": {},
   "outputs": [],
   "source": [
    "clfs_ADD = []\n",
    "for ccp_alpha in ccp_alphas[:-1]:\n",
    "    clf = DecisionTreeClassifier(ccp_alpha=ccp_alpha)\n",
    "    clf.fit(XTrain, yTrain)\n",
    "    clfs_ADD.append(clf)\n",
    "ccp_alphas = ccp_alphas[:-1]"
   ]
  },
  {
   "cell_type": "markdown",
   "metadata": {},
   "source": [
    "Una vez hecho esto vamos a estudiar el número de nodos, la profundidad del árbol y la precisión de entrenamiento y de test en función de los valores alfa."
   ]
  },
  {
   "cell_type": "code",
   "execution_count": 32,
   "metadata": {},
   "outputs": [
    {
     "data": {
      "image/png": "[encoded data removed]",
      "text/plain": [
       "<Figure size 2000x500 with 2 Axes>"
      ]
     },
     "metadata": {},
     "output_type": "display_data"
    }
   ],
   "source": [
    "# Numero de nodos y profundidades de cada modelo.\n",
    "node_counts = [clf.tree_.node_count for clf in clfs_ADD]\n",
    "depth = [clf.tree_.max_depth for clf in clfs_ADD]\n",
    "\n",
    "# Precisiones de entrenamiento y test de cada modelo.\n",
    "train_acc = []\n",
    "test_acc = []\n",
    "for c in clfs_ADD:\n",
    "    clfs_yhatTrain = c.predict(XTrain)\n",
    "    clfs_yhatTest = c.predict(XTest)\n",
    "    train_acc.append(accuracy_score(clfs_yhatTrain, yTrain))\n",
    "    test_acc.append(accuracy_score(clfs_yhatTest, yTest))\n",
    "\n",
    "plt.figure(figsize=(20, 5))\n",
    "\n",
    "# Gráfica Nº Nodos/Profundidad\n",
    "plt.subplot(1, 2, 1)\n",
    "plt.scatter(ccp_alphas, node_counts, color='green')\n",
    "plt.scatter(ccp_alphas, depth, color='red')\n",
    "plt.plot(ccp_alphas, node_counts, label='Nº de Nodos', drawstyle=\"steps-post\", color='green')\n",
    "plt.plot(ccp_alphas, depth, label='Profundidad', drawstyle=\"steps-post\", color='red')\n",
    "plt.legend()\n",
    "plt.title('Nodos + Profundidad / Alfa')\n",
    "\n",
    "# Gráfica de precisiones\n",
    "plt.subplot(1, 2, 2)\n",
    "plt.scatter(ccp_alphas, train_acc, color='blue')\n",
    "plt.scatter(ccp_alphas, test_acc, color='orange')\n",
    "plt.plot(ccp_alphas, train_acc, label='train_accuracy', drawstyle=\"steps-post\", color='blue')\n",
    "plt.plot(ccp_alphas, test_acc, label='test_accuracy', drawstyle=\"steps-post\", color='orange')\n",
    "plt.legend()\n",
    "plt.title('Precisiones / Alfa')\n",
    "\n",
    "plt.tight_layout()\n",
    "plt.show()\n"
   ]
  },
  {
   "cell_type": "code",
   "execution_count": 33,
   "metadata": {},
   "outputs": [
    {
     "data": {
      "text/plain": [
       "0.006506107804891942"
      ]
     },
     "execution_count": 33,
     "metadata": {},
     "output_type": "execute_result"
    }
   ],
   "source": [
    "ccp = ccp_alphas[-4]\n",
    "ccp"
   ]
  },
  {
   "cell_type": "markdown",
   "metadata": {},
   "source": [
    "Podemos ver que hay grandes diferencias en el modelo cuando ccp_alpha=0 y que el caso que muestra un mejor ajuste es ccp_alpha=ccp. Este modelo nos presenta una relación equilibrada entre el número de nodos y la profundida máxima y lo mismo ocurre con las precisiones. En general vemos que hay una diferencia considerable entre ambas para distintos valores de alfa pero en ccp_alpha=ccp ambos valores convergen, indicando similaridad y, por tanto, mucho menos sobreajuste en el modelo. Los últimos valores de alfa también muestran precisiones similares pero ninguno con tanta cercanía entre ambas y con el valor más alto posible, siendo la precisión de test mayor que la de entrenamiento. "
   ]
  },
  {
   "cell_type": "markdown",
   "metadata": {},
   "source": [
    "Determinamos, por tanto, que es mejor realizar una poda con un valor de ccp_alpha=ccp. Tenemos, entonces, que volver a buscar la mejor combinación de parámetros con el nuevo alfa ya que, al cambiar este valor, el conjunto óptimo cambiará también. "
   ]
  },
  {
   "cell_type": "code",
   "execution_count": 34,
   "metadata": {},
   "outputs": [
    {
     "name": "stdout",
     "output_type": "stream",
     "text": [
      "Best estimator found by grid search:  DecisionTreeClassifier(ccp_alpha=0.006506107804891942, max_depth=4,\n",
      "                       min_samples_leaf=5, min_samples_split=5,\n",
      "                       random_state=42)\n",
      "\n",
      "CV-Validation Accuracy:  0.7237500000000001\n"
     ]
    }
   ],
   "source": [
    "param_grid = {\n",
    "    'min_samples_leaf': [5,10],\n",
    "    'min_samples_split':[5, 10, 20],\n",
    "    'max_depth': np.arange(2,11),\n",
    "    'criterion': ['entropy', 'gini']\n",
    "}\n",
    "\n",
    "clf_ADD = GridSearchCV(DecisionTreeClassifier(random_state=42, ccp_alpha=ccp), param_grid, cv=skf)\n",
    "clf_ADD.fit(XTrain , yTrain)\n",
    "\n",
    "model_ADD = clf_ADD.best_estimator_\n",
    "CV_ADD = clf_ADD.best_score_\n",
    "print(\"Best estimator found by grid search: \", model_ADD)\n",
    "print()\n",
    "print(\"CV-Validation Accuracy: \", CV_ADD)"
   ]
  },
  {
   "cell_type": "markdown",
   "metadata": {},
   "source": [
    "Ahora, con el mejor modelo obtenido volvemos a realizar la predicción de entrenamiento y comprobamos la calidad de los resultados obtenidos."
   ]
  },
  {
   "cell_type": "code",
   "execution_count": 35,
   "metadata": {},
   "outputs": [
    {
     "name": "stdout",
     "output_type": "stream",
     "text": [
      "Datos de Entrenamiento: \n",
      "\n",
      "Train Accuracy:  0.75375\n",
      "Train Precision:  0.8047138047138047\n",
      "Train Recall:  0.855098389982111\n",
      "Train F1:  0.829141370338248\n",
      "\n",
      "Train Error:  0.24625\n",
      "Train Error Std:  0.43082587840100783\n",
      "\n",
      "----------------Train Confusion Matrix------------------\n",
      "[[478  81]\n",
      " [116 125]]\n",
      "\n",
      "              precision    recall  f1-score   support\n",
      "\n",
      "           1       0.80      0.86      0.83       559\n",
      "           2       0.61      0.52      0.56       241\n",
      "\n",
      "    accuracy                           0.75       800\n",
      "   macro avg       0.71      0.69      0.69       800\n",
      "weighted avg       0.75      0.75      0.75       800\n",
      "\n"
     ]
    }
   ],
   "source": [
    "yhatTrain = clf_ADD.predict(XTrain)\n",
    "\n",
    "Train_Accuracy_ADD = metrics.accuracy_score(yTrain, yhatTrain)\n",
    "Train_Precision_ADD = metrics.precision_score(yTrain, yhatTrain)\n",
    "Train_Recall_ADD = metrics.recall_score(yTrain, yhatTrain)\n",
    "Train_F1_ADD = metrics.f1_score(yTrain, yhatTrain)\n",
    "Train_Error_ADD = np.mean(yhatTrain != yTrain)\n",
    "Train_std_Error_ADD = np.std(yhatTrain != yTrain)\n",
    "\n",
    "# Métricas del rendimiento del modelo utilizando sklearn.metrics package\n",
    "print('Datos de Entrenamiento: ')\n",
    "print()\n",
    "print(\"Train Accuracy: \", Train_Accuracy_ADD)\n",
    "print(\"Train Precision: \", Train_Precision_ADD)\n",
    "print(\"Train Recall: \", Train_Recall_ADD)\n",
    "print(\"Train F1: \", Train_F1_ADD)\n",
    "print()\n",
    "\n",
    "# Error de entrenamiendo medio y desviación típica.\n",
    "print('Train Error: ', Train_Error_ADD)\n",
    "print('Train Error Std: ', Train_std_Error_ADD)\n",
    "print()\n",
    "\n",
    "# Matriz de Confusión del conjunto de entrenamiento.\n",
    "print('----------------Train Confusion Matrix------------------')\n",
    "print(confusion_matrix(yTrain,yhatTrain))\n",
    "print()\n",
    "print(classification_report(yTrain,yhatTrain))"
   ]
  },
  {
   "cell_type": "markdown",
   "metadata": {},
   "source": [
    "Y lo mismo con los ejemplos de test."
   ]
  },
  {
   "cell_type": "code",
   "execution_count": 36,
   "metadata": {},
   "outputs": [
    {
     "name": "stdout",
     "output_type": "stream",
     "text": [
      "Datos de Test: \n",
      "\n",
      "Test Accuracy:  0.76\n",
      "Test Precision:  0.8079470198675497\n",
      "Test Recall:  0.8652482269503546\n",
      "Test F1:  0.8356164383561644\n",
      "\n",
      "Test Error:  0.39545\n",
      "Test Error Std:  0.48894713160013514\n",
      "\n",
      "----------------Test Confusion Matrix------------------\n",
      "[[122  19]\n",
      " [ 29  30]]\n",
      "\n",
      "              precision    recall  f1-score   support\n",
      "\n",
      "           1       0.81      0.87      0.84       141\n",
      "           2       0.61      0.51      0.56        59\n",
      "\n",
      "    accuracy                           0.76       200\n",
      "   macro avg       0.71      0.69      0.70       200\n",
      "weighted avg       0.75      0.76      0.75       200\n",
      "\n"
     ]
    }
   ],
   "source": [
    "yhatTest = clf_ADD.predict(XTest)\n",
    "\n",
    "Test_Accuracy_ADD = metrics.accuracy_score(yTest, yhatTest)\n",
    "Test_Precision_ADD = metrics.precision_score(yTest, yhatTest)\n",
    "Test_Recall_ADD = metrics.recall_score(yTest, yhatTest)\n",
    "Test_F1_ADD = metrics.f1_score(yTest, yhatTest)\n",
    "Test_Error_ADD = np.mean(yhatTest != yTest)\n",
    "Test_std_Error_ADD = np.std(yhatTest != yTest)\n",
    "\n",
    "# Métricas del rendimiento del modelo utilizando sklearn.metrics package\n",
    "print('Datos de Test: ')\n",
    "print()\n",
    "print(\"Test Accuracy: \", Test_Accuracy_ADD)\n",
    "print(\"Test Precision: \", Test_Precision_ADD)\n",
    "print(\"Test Recall: \", Test_Recall_ADD)\n",
    "print(\"Test F1: \", Test_F1_ADD)\n",
    "print()\n",
    "\n",
    "# Error de test medio y desviación típica.\n",
    "print('Test Error: ', Test_Error_ADD)\n",
    "print('Test Error Std: ', Test_std_Error_ADD)\n",
    "print()\n",
    "\n",
    "# Matriz de Confusión del conjunto de test.\n",
    "print('----------------Test Confusion Matrix------------------')\n",
    "print(confusion_matrix(yTest,yhatTest))\n",
    "print()\n",
    "print(classification_report(yTest,yhatTest))"
   ]
  },
  {
   "cell_type": "markdown",
   "metadata": {},
   "source": [
    "Agrupamos y resumimos estos resultados en una sola tabla:"
   ]
  },
  {
   "cell_type": "code",
   "execution_count": 37,
   "metadata": {},
   "outputs": [
    {
     "data": {
      "text/html": [
       "<div>\n",
       "<style scoped>\n",
       "    .dataframe tbody tr th:only-of-type {\n",
       "        vertical-align: middle;\n",
       "    }\n",
       "\n",
       "    .dataframe tbody tr th {\n",
       "        vertical-align: top;\n",
       "    }\n",
       "\n",
       "    .dataframe thead th {\n",
       "        text-align: right;\n",
       "    }\n",
       "</style>\n",
       "<table border=\"1\" class=\"dataframe\">\n",
       "  <thead>\n",
       "    <tr style=\"text-align: right;\">\n",
       "      <th></th>\n",
       "      <th>Data</th>\n",
       "      <th>Accuracy</th>\n",
       "      <th>Precision</th>\n",
       "      <th>Recall</th>\n",
       "      <th>F1</th>\n",
       "      <th>Error</th>\n",
       "      <th>Std Error</th>\n",
       "    </tr>\n",
       "  </thead>\n",
       "  <tbody>\n",
       "    <tr>\n",
       "      <th>0</th>\n",
       "      <td>Train</td>\n",
       "      <td>0.75</td>\n",
       "      <td>0.80</td>\n",
       "      <td>0.86</td>\n",
       "      <td>0.83</td>\n",
       "      <td>0.25</td>\n",
       "      <td>0.43</td>\n",
       "    </tr>\n",
       "    <tr>\n",
       "      <th>1</th>\n",
       "      <td>Test</td>\n",
       "      <td>0.76</td>\n",
       "      <td>0.81</td>\n",
       "      <td>0.87</td>\n",
       "      <td>0.84</td>\n",
       "      <td>0.40</td>\n",
       "      <td>0.49</td>\n",
       "    </tr>\n",
       "  </tbody>\n",
       "</table>\n",
       "</div>"
      ],
      "text/plain": [
       "    Data  Accuracy  Precision  Recall    F1  Error  Std Error\n",
       "0  Train      0.75       0.80    0.86  0.83   0.25       0.43\n",
       "1   Test      0.76       0.81    0.87  0.84   0.40       0.49"
      ]
     },
     "execution_count": 37,
     "metadata": {},
     "output_type": "execute_result"
    }
   ],
   "source": [
    "ADD_data = {\n",
    "    'Data': ['Train', 'Test'],\n",
    "    'Accuracy': [Train_Accuracy_ADD, Test_Accuracy_ADD],\n",
    "    'Precision': [Train_Precision_ADD, Test_Precision_ADD],\n",
    "    'Recall': [Train_Recall_ADD, Test_Recall_ADD],\n",
    "    'F1': [Train_F1_ADD, Test_F1_ADD],\n",
    "    'Error': [Train_Error_ADD, Test_Error_ADD],\n",
    "    'Std Error': [Train_std_Error_ADD, Test_std_Error_ADD]\n",
    "}\n",
    "ADD_df = pd.DataFrame(ADD_data).round(2)\n",
    "ADD_df"
   ]
  },
  {
   "cell_type": "markdown",
   "metadata": {},
   "source": [
    "Para obtener mejores conclusiones acerca del modelo y su clasificación, observaremos también la estructura del árbol."
   ]
  },
  {
   "cell_type": "code",
   "execution_count": 38,
   "metadata": {},
   "outputs": [
    {
     "name": "stdout",
     "output_type": "stream",
     "text": [
      "|--- Cuenta <= 0.50\n",
      "|   |--- class: 1\n",
      "|--- Cuenta >  0.50\n",
      "|   |--- Duracion <= 0.27\n",
      "|   |   |--- Historial <= 2.50\n",
      "|   |   |   |--- class: 1\n",
      "|   |   |--- Historial >  2.50\n",
      "|   |   |   |--- class: 2\n",
      "|   |--- Duracion >  0.27\n",
      "|   |   |--- Ahorros <= 0.50\n",
      "|   |   |   |--- Cantidad <= 0.07\n",
      "|   |   |   |   |--- class: 2\n",
      "|   |   |   |--- Cantidad >  0.07\n",
      "|   |   |   |   |--- class: 1\n",
      "|   |   |--- Ahorros >  0.50\n",
      "|   |   |   |--- class: 2\n",
      "\n"
     ]
    }
   ],
   "source": [
    "texto_modelo = export_text(\n",
    "                    decision_tree = model_ADD,\n",
    "                    feature_names = list(X.columns)\n",
    "               )\n",
    "print(texto_modelo)"
   ]
  },
  {
   "cell_type": "markdown",
   "metadata": {},
   "source": [
    "Así como la gráfica de clasificación del árbol."
   ]
  },
  {
   "cell_type": "code",
   "execution_count": 39,
   "metadata": {},
   "outputs": [
    {
     "name": "stdout",
     "output_type": "stream",
     "text": [
      "Profundidad del árbol: 4\n",
      "Número de nodos terminales: 6\n"
     ]
    },
    {
     "data": {
      "image/png": "[encoded data removed]",
      "text/plain": [
       "<Figure size 1500x800 with 1 Axes>"
      ]
     },
     "metadata": {},
     "output_type": "display_data"
    }
   ],
   "source": [
    "fig, ax = plt.subplots(figsize=(15, 8))\n",
    "\n",
    "print(f\"Profundidad del árbol: {model_ADD.get_depth()}\")\n",
    "print(f\"Número de nodos terminales: {model_ADD.get_n_leaves()}\")\n",
    "\n",
    "plot = plot_tree(\n",
    "            decision_tree = model_ADD,\n",
    "            feature_names = list(X.columns),\n",
    "            class_names   = ['1', '2'],\n",
    "            filled        = True,\n",
    "            impurity      = False,\n",
    "            fontsize      = 10,\n",
    "            precision     = 2,\n",
    "            ax            = ax\n",
    "       )"
   ]
  },
  {
   "cell_type": "markdown",
   "metadata": {},
   "source": [
    "### MODELO 3: REGRESIÓN LOGÍSTICA"
   ]
  },
  {
   "cell_type": "markdown",
   "metadata": {},
   "source": [
    "Para el tercer modelo utilizaremos Regresión Logística, un algoritmo que permite clasificar observaciones en función de clases categóricas (discretas). Consiste en implementar una ecuación lineal con las variables explicativas independientes del tipo: z = β0 + β1x1 + β2x2 + ... + βnxn donde los coeficientes βi son los parámetros del modelo. El valor z obtenido por la recta se introduce después como entrada de una función sigmoide que lo expresa como una probabilidad, en rango [0, 1]. En nuestro caso como se trata de una decisión binaria la frontera de decisión se establece en 0.5 generalmente donde aquellos puntos con p>=0.5 se clasificarán como 'Aptos' y aquellos con p<=0.5 como 'No Aptos'. "
   ]
  },
  {
   "cell_type": "markdown",
   "metadata": {},
   "source": [
    "Por tanto, lo primero que haremos es estudiar la correlación entre las variables explicativas y comprobar que no existe una multicolinealidad alta entre ellas que pueda afectar considerablemente el rendimiento del modelo. "
   ]
  },
  {
   "cell_type": "code",
   "execution_count": 40,
   "metadata": {},
   "outputs": [
    {
     "data": {
      "text/plain": [
       "Text(0.5, 1.0, 'Correlation Heatmap')"
      ]
     },
     "execution_count": 40,
     "metadata": {},
     "output_type": "execute_result"
    },
    {
     "data": {
      "image/png": "[encoded data removed]",
      "text/plain": [
       "<Figure size 640x480 with 2 Axes>"
      ]
     },
     "metadata": {},
     "output_type": "display_data"
    }
   ],
   "source": [
    "corr_data = X.corr()\n",
    "sns.heatmap(corr_data)\n",
    "plt.title('Correlation Heatmap')"
   ]
  },
  {
   "cell_type": "markdown",
   "metadata": {},
   "source": [
    "Vemos que, por lo general, no existe una fuerte correlación entre las variables independientes, por lo que continuamos con el estudio del modelo. "
   ]
  },
  {
   "cell_type": "markdown",
   "metadata": {},
   "source": [
    "El algoritmo de Regresión Logística tiene múltiplos parámetros. No obstante hay 3 que nos interesan cocretamente para nuestro caso:\n",
    "- Parámetro 'C' de regularización: este valor ayuda a prevenir el sobreajuste del modelo al penalizar los coeficientes más grandes. Es el inverso del parámetro de regularización por lo que, cuanto mayor sea C menor será la regularización. Nos interesa entonces tener valores de C bajos.\n",
    "- Parámetro 'penalty': tenemos dos valores posibles, 'l1' y 'l2'. L1 favorece los coeficientes dispersos, útil cuando hay varibles que podrían ser irrelevantes. L2 penaliza los coeficientes grandes. \n",
    "- Parámetro 'solver': especifica el algoritmo a utilizar en la optimización del problema. Depende del valor de 'penalty'.                                                      \n",
    "\n",
    "Para los dos últimos parámetros utilizaremos los valores por defecto, 'l2' y 'lbfgs' respectivamente. "
   ]
  },
  {
   "cell_type": "markdown",
   "metadata": {},
   "source": [
    "El parámetro más importante a elegir es el valor de C puesto que queremos evitar el sobreajuste del modelo. Por ello, antes de emplear Validación Cruzada, estudiamos, como en el caso de Árboles de Decisión, qué valor iguala de forma más exacta las precisiones de entrenamiento y test. "
   ]
  },
  {
   "cell_type": "code",
   "execution_count": 41,
   "metadata": {},
   "outputs": [
    {
     "data": {
      "image/png": "[encoded data removed]",
      "text/plain": [
       "<Figure size 2000x500 with 1 Axes>"
      ]
     },
     "metadata": {},
     "output_type": "display_data"
    }
   ],
   "source": [
    "# Modelos para cada valor de C\n",
    "c_values_RL = np.linspace(0.0001, 0.1, 30)\n",
    "clfs_RL = []\n",
    "for c_value in c_values_RL:\n",
    "    clf = LogisticRegression(C=c_value, random_state=42)\n",
    "    clf.fit(XTrain, yTrain)\n",
    "    clfs_RL.append(clf)\n",
    "\n",
    "# Precisiones de entrenamiento y test de cada modelo.\n",
    "train_acc = []\n",
    "test_acc = []\n",
    "for c in clfs_RL:\n",
    "    clfs_yhatTrain = c.predict(XTrain)\n",
    "    clfs_yhatTest = c.predict(XTest)\n",
    "    train_acc.append(accuracy_score(clfs_yhatTrain, yTrain))\n",
    "    test_acc.append(accuracy_score(clfs_yhatTest, yTest))\n",
    "\n",
    "# Gráfica de precisiones\n",
    "plt.figure(figsize=(20, 5))\n",
    "plt.scatter(c_values_RL, train_acc, color='blue')\n",
    "plt.scatter(c_values_RL, test_acc, color='orange')\n",
    "plt.plot(c_values_RL, train_acc, label='train_accuracy', drawstyle=\"steps-post\", color='blue')\n",
    "plt.plot(c_values_RL, test_acc, label='test_accuracy', drawstyle=\"steps-post\", color='orange')\n",
    "plt.legend()\n",
    "plt.title('Precisiones / Cs')\n",
    "plt.show()"
   ]
  },
  {
   "cell_type": "markdown",
   "metadata": {},
   "source": [
    "Podemos ver que el valor que mejor relación nos da entre la cercanía de ambas precisiones y el valor más alto posible es el 10º valor de la lista c_values."
   ]
  },
  {
   "cell_type": "code",
   "execution_count": 42,
   "metadata": {},
   "outputs": [
    {
     "data": {
      "text/plain": [
       "0.031103448275862068"
      ]
     },
     "execution_count": 42,
     "metadata": {},
     "output_type": "execute_result"
    }
   ],
   "source": [
    "C_RL = c_values_RL[9]\n",
    "C_RL"
   ]
  },
  {
   "cell_type": "markdown",
   "metadata": {},
   "source": [
    "Ahora empleamos Validación Cruzada para estudiar qué valor de C considera que es más óptimo. "
   ]
  },
  {
   "cell_type": "code",
   "execution_count": 43,
   "metadata": {},
   "outputs": [
    {
     "name": "stdout",
     "output_type": "stream",
     "text": [
      "Best estimator found by grid search:  LogisticRegression(C=0.05521724137931035, random_state=42)\n"
     ]
    }
   ],
   "source": [
    "param_grid = {'C': np.linspace(0.0001, 0.1, 30)}\n",
    "clf_RL = GridSearchCV(LogisticRegression(random_state=42), param_grid, cv=skf)\n",
    "clf_RL.fit(XTrain, yTrain)\n",
    "model_RL = clf_RL.best_estimator_\n",
    "print(\"Best estimator found by grid search: \", model_RL)"
   ]
  },
  {
   "cell_type": "markdown",
   "metadata": {},
   "source": [
    "La precisión obtenida en el proceso de Validación Cruzada es:"
   ]
  },
  {
   "cell_type": "code",
   "execution_count": 44,
   "metadata": {},
   "outputs": [
    {
     "name": "stdout",
     "output_type": "stream",
     "text": [
      "CV-Validation Accuracy:  0.71625\n"
     ]
    }
   ],
   "source": [
    "print(\"CV-Validation Accuracy: \", clf_RL.best_score_)"
   ]
  },
  {
   "cell_type": "markdown",
   "metadata": {},
   "source": [
    "De nuevo, como GridSearchCV se ajusta a los datos de entrenamiento, nos proporciona un valor de C que, según el estudio pervio, nos da un modelo sobreajustado. Utilizamos por tanto el primer valor de C obtenido. "
   ]
  },
  {
   "cell_type": "code",
   "execution_count": 45,
   "metadata": {},
   "outputs": [
    {
     "name": "stdout",
     "output_type": "stream",
     "text": [
      "Best estimator found:  LogisticRegression(C=0.031103448275862068, random_state=42)\n"
     ]
    }
   ],
   "source": [
    "clf_RL = LogisticRegression(C=C_RL, random_state=42)\n",
    "clf_RL.fit(XTrain, yTrain)\n",
    "print(\"Best estimator found: \", clf_RL)"
   ]
  },
  {
   "cell_type": "markdown",
   "metadata": {},
   "source": [
    "El modelo final que emplearemos tiene una precisión en Validación Cruzada de:"
   ]
  },
  {
   "cell_type": "code",
   "execution_count": 46,
   "metadata": {},
   "outputs": [
    {
     "name": "stdout",
     "output_type": "stream",
     "text": [
      "CV-Validation Accuracy:  0.7070000000000001\n"
     ]
    }
   ],
   "source": [
    "CV_RL = cross_val_score(clf_RL, X, y.to_numpy().ravel(), cv=skf, scoring='accuracy').mean()\n",
    "print(\"CV-Validation Accuracy: \", CV_RL)"
   ]
  },
  {
   "cell_type": "markdown",
   "metadata": {},
   "source": [
    "Ahora realizamos las predicciones y obtenemos las métricas de rendimiento del modelo. "
   ]
  },
  {
   "cell_type": "code",
   "execution_count": 47,
   "metadata": {},
   "outputs": [
    {
     "name": "stdout",
     "output_type": "stream",
     "text": [
      "Datos de Entrenamiento: \n",
      "\n",
      "Train Accuracy:  0.71875\n",
      "Train Precision:  0.7293956043956044\n",
      "Train Recall:  0.9499105545617174\n",
      "Train F1:  0.8251748251748251\n",
      "\n",
      "Train Error:  0.28125\n",
      "Train Error Std:  0.4496092053105675\n",
      "\n",
      "----------------Train Confusion Matrix------------------\n",
      "[[531  28]\n",
      " [197  44]]\n",
      "\n",
      "              precision    recall  f1-score   support\n",
      "\n",
      "           1       0.73      0.95      0.83       559\n",
      "           2       0.61      0.18      0.28       241\n",
      "\n",
      "    accuracy                           0.72       800\n",
      "   macro avg       0.67      0.57      0.55       800\n",
      "weighted avg       0.69      0.72      0.66       800\n",
      "\n"
     ]
    }
   ],
   "source": [
    "yhatTrain = clf_RL.predict(XTrain)\n",
    "\n",
    "Train_Accuracy_RL = metrics.accuracy_score(yTrain, yhatTrain)\n",
    "Train_Precision_RL = metrics.precision_score(yTrain, yhatTrain)\n",
    "Train_Recall_RL = metrics.recall_score(yTrain, yhatTrain)\n",
    "Train_F1_RL = metrics.f1_score(yTrain, yhatTrain)\n",
    "Train_Error_RL = np.mean(yhatTrain != yTrain)\n",
    "Train_std_Error_RL = np.std(yhatTrain != yTrain)\n",
    "\n",
    "# Métricas del rendimiento del modelo utilizando sklearn.metrics package\n",
    "print('Datos de Entrenamiento: ')\n",
    "print()\n",
    "print(\"Train Accuracy: \", Train_Accuracy_RL)\n",
    "print(\"Train Precision: \", Train_Precision_RL)\n",
    "print(\"Train Recall: \", Train_Recall_RL)\n",
    "print(\"Train F1: \", Train_F1_RL)\n",
    "print()\n",
    "\n",
    "# Error de entrenamiendo medio y desviación típica.\n",
    "print('Train Error: ', Train_Error_RL)\n",
    "print('Train Error Std: ', Train_std_Error_RL)\n",
    "print()\n",
    "\n",
    "# Matriz de Confusión del conjunto de entrenamiento.\n",
    "print('----------------Train Confusion Matrix------------------')\n",
    "print(confusion_matrix(yTrain,yhatTrain))\n",
    "print()\n",
    "print(classification_report(yTrain,yhatTrain))"
   ]
  },
  {
   "cell_type": "code",
   "execution_count": 48,
   "metadata": {},
   "outputs": [
    {
     "name": "stdout",
     "output_type": "stream",
     "text": [
      "Datos de Test: \n",
      "\n",
      "Test Accuracy:  0.715\n",
      "Test Precision:  0.7307692307692307\n",
      "Test Recall:  0.9432624113475178\n",
      "Test F1:  0.8235294117647058\n",
      "\n",
      "Test Error:  0.3319\n",
      "Test Error Std:  0.4708953068358188\n",
      "\n",
      "----------------Test Confusion Matrix------------------\n",
      "[[133   8]\n",
      " [ 49  10]]\n",
      "\n",
      "              precision    recall  f1-score   support\n",
      "\n",
      "           1       0.73      0.94      0.82       141\n",
      "           2       0.56      0.17      0.26        59\n",
      "\n",
      "    accuracy                           0.71       200\n",
      "   macro avg       0.64      0.56      0.54       200\n",
      "weighted avg       0.68      0.71      0.66       200\n",
      "\n"
     ]
    }
   ],
   "source": [
    "yhatTest = clf_RL.predict(XTest)\n",
    "\n",
    "Test_Accuracy_RL = metrics.accuracy_score(yTest, yhatTest)\n",
    "Test_Precision_RL = metrics.precision_score(yTest, yhatTest)\n",
    "Test_Recall_RL = metrics.recall_score(yTest, yhatTest)\n",
    "Test_F1_RL = metrics.f1_score(yTest, yhatTest)\n",
    "Test_Error_RL = np.mean(yhatTest != yTest)\n",
    "Test_std_Error_RL = np.std(yhatTest != yTest)\n",
    "\n",
    "# Métricas del rendimiento del modelo utilizando sklearn.metrics package\n",
    "print('Datos de Test: ')\n",
    "print()\n",
    "print(\"Test Accuracy: \", Test_Accuracy_RL)\n",
    "print(\"Test Precision: \", Test_Precision_RL)\n",
    "print(\"Test Recall: \", Test_Recall_RL)\n",
    "print(\"Test F1: \", Test_F1_RL)\n",
    "print()\n",
    "\n",
    "# Error de test medio y desviación típica.\n",
    "print('Test Error: ', Test_Error_RL)\n",
    "print('Test Error Std: ', Test_std_Error_RL)\n",
    "print()\n",
    "\n",
    "# Matriz de Confusión del conjunto de test.\n",
    "print('----------------Test Confusion Matrix------------------')\n",
    "print(confusion_matrix(yTest,yhatTest))\n",
    "print()\n",
    "print(classification_report(yTest,yhatTest))"
   ]
  },
  {
   "cell_type": "markdown",
   "metadata": {},
   "source": [
    "Agrupamos y resumimos estos resultados en una sola tabla:"
   ]
  },
  {
   "cell_type": "code",
   "execution_count": 49,
   "metadata": {},
   "outputs": [
    {
     "data": {
      "text/html": [
       "<div>\n",
       "<style scoped>\n",
       "    .dataframe tbody tr th:only-of-type {\n",
       "        vertical-align: middle;\n",
       "    }\n",
       "\n",
       "    .dataframe tbody tr th {\n",
       "        vertical-align: top;\n",
       "    }\n",
       "\n",
       "    .dataframe thead th {\n",
       "        text-align: right;\n",
       "    }\n",
       "</style>\n",
       "<table border=\"1\" class=\"dataframe\">\n",
       "  <thead>\n",
       "    <tr style=\"text-align: right;\">\n",
       "      <th></th>\n",
       "      <th>Data</th>\n",
       "      <th>Accuracy</th>\n",
       "      <th>Precision</th>\n",
       "      <th>Recall</th>\n",
       "      <th>F1</th>\n",
       "      <th>Error</th>\n",
       "      <th>Std Error</th>\n",
       "    </tr>\n",
       "  </thead>\n",
       "  <tbody>\n",
       "    <tr>\n",
       "      <th>0</th>\n",
       "      <td>Train</td>\n",
       "      <td>0.72</td>\n",
       "      <td>0.73</td>\n",
       "      <td>0.95</td>\n",
       "      <td>0.83</td>\n",
       "      <td>0.28</td>\n",
       "      <td>0.45</td>\n",
       "    </tr>\n",
       "    <tr>\n",
       "      <th>1</th>\n",
       "      <td>Test</td>\n",
       "      <td>0.72</td>\n",
       "      <td>0.73</td>\n",
       "      <td>0.94</td>\n",
       "      <td>0.82</td>\n",
       "      <td>0.33</td>\n",
       "      <td>0.47</td>\n",
       "    </tr>\n",
       "  </tbody>\n",
       "</table>\n",
       "</div>"
      ],
      "text/plain": [
       "    Data  Accuracy  Precision  Recall    F1  Error  Std Error\n",
       "0  Train      0.72       0.73    0.95  0.83   0.28       0.45\n",
       "1   Test      0.72       0.73    0.94  0.82   0.33       0.47"
      ]
     },
     "execution_count": 49,
     "metadata": {},
     "output_type": "execute_result"
    }
   ],
   "source": [
    "RL_data = {\n",
    "    'Data': ['Train', 'Test'],\n",
    "    'Accuracy': [Train_Accuracy_RL, Test_Accuracy_RL],\n",
    "    'Precision': [Train_Precision_RL, Test_Precision_RL],\n",
    "    'Recall': [Train_Recall_RL, Test_Recall_RL],\n",
    "    'F1': [Train_F1_RL, Test_F1_RL],\n",
    "    'Error': [Train_Error_RL, Test_Error_RL],\n",
    "    'Std Error': [Train_std_Error_RL, Test_std_Error_RL]\n",
    "}\n",
    "RL_df = pd.DataFrame(RL_data).round(2)\n",
    "RL_df"
   ]
  },
  {
   "cell_type": "markdown",
   "metadata": {},
   "source": [
    "### MODELO 4: SVM (Support Vector Machines)"
   ]
  },
  {
   "cell_type": "markdown",
   "metadata": {},
   "source": [
    "Para el cuarto y último modelo utilizaremos el algoritmo SVM (Support Vector Machines), que consiste en buscar un hiperplano que maximice el margen entre ambas clases, en el caso de clasificación binaria. "
   ]
  },
  {
   "cell_type": "markdown",
   "metadata": {},
   "source": [
    "En este algoritmo tenemos dos parámetros de interés:\n",
    "- Parámetro 'kernel': esta métrica puede tomar diversos valores distintos, y determina el tipo de función kernel que se utilizará en el modelo. En nuestro caso escogeremos 'linear', específico para problemas de clasificación lineal y eficiente. \n",
    "- Parámetro 'C': como en el caso de Regresión Logística, esta métrica determina la regularización del modelo. "
   ]
  },
  {
   "cell_type": "markdown",
   "metadata": {},
   "source": [
    "Comenzaremos utilizando Validación Cruzada para encontrar el mejor valor de C , probando con distintos valores de tamaños muy distintos para encontrar una aproximación."
   ]
  },
  {
   "cell_type": "code",
   "execution_count": 50,
   "metadata": {},
   "outputs": [
    {
     "name": "stdout",
     "output_type": "stream",
     "text": [
      "Best estimator found by grid search:  SVC(C=1, kernel='linear', random_state=42)\n"
     ]
    }
   ],
   "source": [
    "param_grid = {'C': [0.001, 0.01, 0.1, 1, 10]}\n",
    "clf_SVC = GridSearchCV(svm.SVC(kernel=\"linear\", random_state=42), param_grid, cv=skf)\n",
    "clf_SVC.fit(XTrain, yTrain)\n",
    "model_SVC = clf_SVC.best_estimator_\n",
    "print(\"Best estimator found by grid search: \", model_SVC)"
   ]
  },
  {
   "cell_type": "markdown",
   "metadata": {},
   "source": [
    "Una vez tenemos el mejor modelo de C, estudiamos más en concreto qué valor optimiza las precisiones de entrenamiento y test, con un rango de C en torno al valor obtenido con Validación Cruzada. "
   ]
  },
  {
   "cell_type": "code",
   "execution_count": 51,
   "metadata": {},
   "outputs": [
    {
     "data": {
      "image/png": "[encoded data removed]",
      "text/plain": [
       "<Figure size 2000x500 with 1 Axes>"
      ]
     },
     "metadata": {},
     "output_type": "display_data"
    }
   ],
   "source": [
    "# Modelos para cada valor de C\n",
    "c_values_SVC = np.linspace(0.1, 2, 30)\n",
    "clfs_SVC = []\n",
    "for c_value in c_values_SVC:\n",
    "    clf = svm.SVC(kernel=\"linear\", C=c_value, random_state=42)\n",
    "    clf.fit(XTrain, yTrain)\n",
    "    clfs_SVC.append(clf)\n",
    "\n",
    "# Precisiones de entrenamiento y test de cada modelo.\n",
    "train_acc = []\n",
    "test_acc = []\n",
    "for c in clfs_SVC:\n",
    "    clfs_yhatTrain = c.predict(XTrain)\n",
    "    clfs_yhatTest = c.predict(XTest)\n",
    "    train_acc.append(accuracy_score(clfs_yhatTrain, yTrain))\n",
    "    test_acc.append(accuracy_score(clfs_yhatTest, yTest))\n",
    "\n",
    "# Gráfica de precisiones\n",
    "plt.figure(figsize=(20, 5))\n",
    "plt.scatter(c_values_SVC, train_acc, color='blue')\n",
    "plt.scatter(c_values_SVC, test_acc, color='orange')\n",
    "plt.plot(c_values_SVC, train_acc, label='train_accuracy', drawstyle=\"steps-post\", color='blue')\n",
    "plt.plot(c_values_SVC, test_acc, label='test_accuracy', drawstyle=\"steps-post\", color='orange')\n",
    "plt.legend()\n",
    "plt.title('Precisiones / Cs')\n",
    "plt.show()"
   ]
  },
  {
   "cell_type": "markdown",
   "metadata": {},
   "source": [
    "Vemos que el valor donde ambas precisiones son más similares y tienen un valor máximo es en el 17º valor. Ese será, entonces, el que utilizaremos en nuestro modelo."
   ]
  },
  {
   "cell_type": "code",
   "execution_count": 52,
   "metadata": {},
   "outputs": [
    {
     "data": {
      "text/plain": [
       "1.1482758620689655"
      ]
     },
     "execution_count": 52,
     "metadata": {},
     "output_type": "execute_result"
    }
   ],
   "source": [
    "C_SVC = c_values_SVC[16]\n",
    "C_SVC"
   ]
  },
  {
   "cell_type": "code",
   "execution_count": 53,
   "metadata": {},
   "outputs": [
    {
     "name": "stdout",
     "output_type": "stream",
     "text": [
      "Best estimator found:  SVC(C=1.1482758620689655, kernel='linear')\n"
     ]
    }
   ],
   "source": [
    "clf_SVC = svm.SVC(kernel=\"linear\", C=C_SVC)\n",
    "clf_SVC.fit(XTrain, yTrain)\n",
    "print(\"Best estimator found: \", clf_SVC)"
   ]
  },
  {
   "cell_type": "markdown",
   "metadata": {},
   "source": [
    "El modelo final que emplearemos tiene una precisión de Validación Cruzada de:"
   ]
  },
  {
   "cell_type": "code",
   "execution_count": 54,
   "metadata": {},
   "outputs": [
    {
     "name": "stdout",
     "output_type": "stream",
     "text": [
      "CV-Validation Accuracy:  0.713\n"
     ]
    }
   ],
   "source": [
    "CV_SVC = cross_val_score(clf_SVC, X, y.to_numpy().ravel(), cv=skf, scoring='accuracy').mean()\n",
    "print(\"CV-Validation Accuracy: \", CV_SVC)"
   ]
  },
  {
   "cell_type": "markdown",
   "metadata": {},
   "source": [
    "Estudiamos las métricas de precisión del modelo:"
   ]
  },
  {
   "cell_type": "code",
   "execution_count": 55,
   "metadata": {},
   "outputs": [
    {
     "name": "stdout",
     "output_type": "stream",
     "text": [
      "Datos de Entrenamiento: \n",
      "\n",
      "Train Accuracy:  0.73\n",
      "Train Precision:  0.7339699863574352\n",
      "Train Recall:  0.962432915921288\n",
      "Train F1:  0.8328173374613002\n",
      "\n",
      "Train Error:  0.27\n",
      "Train Error Std:  0.4439594576084623\n",
      "\n",
      "----------------Train Confusion Matrix------------------\n",
      "[[538  21]\n",
      " [195  46]]\n",
      "\n",
      "              precision    recall  f1-score   support\n",
      "\n",
      "           1       0.73      0.96      0.83       559\n",
      "           2       0.69      0.19      0.30       241\n",
      "\n",
      "    accuracy                           0.73       800\n",
      "   macro avg       0.71      0.58      0.57       800\n",
      "weighted avg       0.72      0.73      0.67       800\n",
      "\n"
     ]
    }
   ],
   "source": [
    "yhatTrain = clf_SVC.predict(XTrain)\n",
    "\n",
    "Train_Accuracy_SVC = metrics.accuracy_score(yTrain, yhatTrain)\n",
    "Train_Precision_SVC = metrics.precision_score(yTrain, yhatTrain)\n",
    "Train_Recall_SVC = metrics.recall_score(yTrain, yhatTrain)\n",
    "Train_F1_SVC = metrics.f1_score(yTrain, yhatTrain)\n",
    "Train_Error_SVC = np.mean(yhatTrain != yTrain)\n",
    "Train_std_Error_SVC = np.std(yhatTrain != yTrain)\n",
    "\n",
    "# Métricas del rendimiento del modelo utilizando sklearn.metrics package\n",
    "print('Datos de Entrenamiento: ')\n",
    "print()\n",
    "print(\"Train Accuracy: \", Train_Accuracy_SVC)\n",
    "print(\"Train Precision: \", Train_Precision_SVC)\n",
    "print(\"Train Recall: \", Train_Recall_SVC)\n",
    "print(\"Train F1: \", Train_F1_SVC)\n",
    "print()\n",
    "\n",
    "# Error de entrenamiendo medio y desviación típica.\n",
    "print('Train Error: ', Train_Error_SVC)\n",
    "print('Train Error Std: ', Train_std_Error_SVC)\n",
    "print()\n",
    "\n",
    "# Matriz de Confusión del conjunto de entrenamiento.\n",
    "print('----------------Train Confusion Matrix------------------')\n",
    "print(confusion_matrix(yTrain,yhatTrain))\n",
    "print()\n",
    "print(classification_report(yTrain,yhatTrain))"
   ]
  },
  {
   "cell_type": "code",
   "execution_count": 56,
   "metadata": {},
   "outputs": [
    {
     "name": "stdout",
     "output_type": "stream",
     "text": [
      "Datos de Test: \n",
      "\n",
      "Test Accuracy:  0.73\n",
      "Test Precision:  0.732620320855615\n",
      "Test Recall:  0.9716312056737588\n",
      "Test F1:  0.8353658536585367\n",
      "\n",
      "Test Error:  0.32165\n",
      "Test Error Std:  0.4671094919823403\n",
      "\n",
      "----------------Test Confusion Matrix------------------\n",
      "[[137   4]\n",
      " [ 50   9]]\n",
      "\n",
      "              precision    recall  f1-score   support\n",
      "\n",
      "           1       0.73      0.97      0.84       141\n",
      "           2       0.69      0.15      0.25        59\n",
      "\n",
      "    accuracy                           0.73       200\n",
      "   macro avg       0.71      0.56      0.54       200\n",
      "weighted avg       0.72      0.73      0.66       200\n",
      "\n"
     ]
    }
   ],
   "source": [
    "yhatTest = clf_SVC.predict(XTest)\n",
    "\n",
    "Test_Accuracy_SVC = metrics.accuracy_score(yTest, yhatTest)\n",
    "Test_Precision_SVC = metrics.precision_score(yTest, yhatTest)\n",
    "Test_Recall_SVC = metrics.recall_score(yTest, yhatTest)\n",
    "Test_F1_SVC = metrics.f1_score(yTest, yhatTest)\n",
    "Test_Error_SVC = np.mean(yhatTest != yTest)\n",
    "Test_std_Error_SVC = np.std(yhatTest != yTest)\n",
    "\n",
    "# Métricas del rendimiento del modelo utilizando sklearn.metrics package\n",
    "print('Datos de Test: ')\n",
    "print()\n",
    "print(\"Test Accuracy: \", Test_Accuracy_SVC)\n",
    "print(\"Test Precision: \", Test_Precision_SVC)\n",
    "print(\"Test Recall: \", Test_Recall_SVC)\n",
    "print(\"Test F1: \", Test_F1_SVC)\n",
    "print()\n",
    "\n",
    "# Error de test medio y desviación típica.\n",
    "print('Test Error: ', Test_Error_SVC)\n",
    "print('Test Error Std: ', Test_std_Error_SVC)\n",
    "print()\n",
    "\n",
    "# Matriz de Confusión del conjunto de test.\n",
    "print('----------------Test Confusion Matrix------------------')\n",
    "print(confusion_matrix(yTest,yhatTest))\n",
    "print()\n",
    "print(classification_report(yTest,yhatTest))"
   ]
  },
  {
   "cell_type": "markdown",
   "metadata": {},
   "source": [
    "Agrupamos y resumimos estos resultados en una sola tabla:"
   ]
  },
  {
   "cell_type": "code",
   "execution_count": 57,
   "metadata": {},
   "outputs": [
    {
     "data": {
      "text/html": [
       "<div>\n",
       "<style scoped>\n",
       "    .dataframe tbody tr th:only-of-type {\n",
       "        vertical-align: middle;\n",
       "    }\n",
       "\n",
       "    .dataframe tbody tr th {\n",
       "        vertical-align: top;\n",
       "    }\n",
       "\n",
       "    .dataframe thead th {\n",
       "        text-align: right;\n",
       "    }\n",
       "</style>\n",
       "<table border=\"1\" class=\"dataframe\">\n",
       "  <thead>\n",
       "    <tr style=\"text-align: right;\">\n",
       "      <th></th>\n",
       "      <th>Data</th>\n",
       "      <th>Accuracy</th>\n",
       "      <th>Precision</th>\n",
       "      <th>Recall</th>\n",
       "      <th>F1</th>\n",
       "      <th>Error</th>\n",
       "      <th>Std Error</th>\n",
       "    </tr>\n",
       "  </thead>\n",
       "  <tbody>\n",
       "    <tr>\n",
       "      <th>0</th>\n",
       "      <td>Train</td>\n",
       "      <td>0.73</td>\n",
       "      <td>0.73</td>\n",
       "      <td>0.96</td>\n",
       "      <td>0.83</td>\n",
       "      <td>0.27</td>\n",
       "      <td>0.44</td>\n",
       "    </tr>\n",
       "    <tr>\n",
       "      <th>1</th>\n",
       "      <td>Test</td>\n",
       "      <td>0.73</td>\n",
       "      <td>0.73</td>\n",
       "      <td>0.97</td>\n",
       "      <td>0.84</td>\n",
       "      <td>0.32</td>\n",
       "      <td>0.47</td>\n",
       "    </tr>\n",
       "  </tbody>\n",
       "</table>\n",
       "</div>"
      ],
      "text/plain": [
       "    Data  Accuracy  Precision  Recall    F1  Error  Std Error\n",
       "0  Train      0.73       0.73    0.96  0.83   0.27       0.44\n",
       "1   Test      0.73       0.73    0.97  0.84   0.32       0.47"
      ]
     },
     "execution_count": 57,
     "metadata": {},
     "output_type": "execute_result"
    }
   ],
   "source": [
    "SVC_data = {\n",
    "    'Data': ['Train', 'Test'],\n",
    "    'Accuracy': [Train_Accuracy_SVC, Test_Accuracy_SVC],\n",
    "    'Precision': [Train_Precision_SVC, Test_Precision_SVC],\n",
    "    'Recall': [Train_Recall_SVC, Test_Recall_SVC],\n",
    "    'F1': [Train_F1_SVC, Test_F1_SVC],\n",
    "    'Error': [Train_Error_SVC, Test_Error_SVC],\n",
    "    'Std Error': [Train_std_Error_SVC, Test_std_Error_SVC]\n",
    "}\n",
    "SVC_df = pd.DataFrame(SVC_data).round(2)\n",
    "SVC_df"
   ]
  },
  {
   "cell_type": "markdown",
   "metadata": {},
   "source": [
    "## RESULTADOS"
   ]
  },
  {
   "cell_type": "markdown",
   "metadata": {},
   "source": [
    "Una vez tenemos todos los modelos y sus correspondientes métricas de evaluación y rendimiento, procedemos a estudiar cuál de los 4 es el mejor. "
   ]
  },
  {
   "cell_type": "markdown",
   "metadata": {},
   "source": [
    "Primero comparamos los valores de Cross Validation Accuracy de cada modelo. "
   ]
  },
  {
   "cell_type": "code",
   "execution_count": 58,
   "metadata": {},
   "outputs": [
    {
     "data": {
      "text/html": [
       "<div>\n",
       "<style scoped>\n",
       "    .dataframe tbody tr th:only-of-type {\n",
       "        vertical-align: middle;\n",
       "    }\n",
       "\n",
       "    .dataframe tbody tr th {\n",
       "        vertical-align: top;\n",
       "    }\n",
       "\n",
       "    .dataframe thead th {\n",
       "        text-align: right;\n",
       "    }\n",
       "</style>\n",
       "<table border=\"1\" class=\"dataframe\">\n",
       "  <thead>\n",
       "    <tr style=\"text-align: right;\">\n",
       "      <th></th>\n",
       "      <th>Modelo</th>\n",
       "      <th>CV-Accuracy</th>\n",
       "    </tr>\n",
       "  </thead>\n",
       "  <tbody>\n",
       "    <tr>\n",
       "      <th>0</th>\n",
       "      <td>K-NN</td>\n",
       "      <td>0.73</td>\n",
       "    </tr>\n",
       "    <tr>\n",
       "      <th>1</th>\n",
       "      <td>Decision Tree</td>\n",
       "      <td>0.72</td>\n",
       "    </tr>\n",
       "    <tr>\n",
       "      <th>2</th>\n",
       "      <td>Logistic Regression</td>\n",
       "      <td>0.71</td>\n",
       "    </tr>\n",
       "    <tr>\n",
       "      <th>3</th>\n",
       "      <td>SVC</td>\n",
       "      <td>0.71</td>\n",
       "    </tr>\n",
       "  </tbody>\n",
       "</table>\n",
       "</div>"
      ],
      "text/plain": [
       "                Modelo  CV-Accuracy\n",
       "0                 K-NN         0.73\n",
       "1        Decision Tree         0.72\n",
       "2  Logistic Regression         0.71\n",
       "3                  SVC         0.71"
      ]
     },
     "execution_count": 58,
     "metadata": {},
     "output_type": "execute_result"
    }
   ],
   "source": [
    "CV_data = {\n",
    "    'Modelo': ['K-NN', 'Decision Tree', 'Logistic Regression', 'SVC'],\n",
    "    'CV-Accuracy': [CV_KNN, CV_ADD, CV_RL, CV_SVC]\n",
    "}\n",
    "CV_df = pd.DataFrame(CV_data).round(2)\n",
    "CV_df"
   ]
  },
  {
   "cell_type": "code",
   "execution_count": 59,
   "metadata": {},
   "outputs": [
    {
     "data": {
      "image/png": "[encoded data removed]",
      "text/plain": [
       "<Figure size 700x300 with 1 Axes>"
      ]
     },
     "metadata": {},
     "output_type": "display_data"
    }
   ],
   "source": [
    "colores = ['mediumslateblue', 'mediumpurple', 'blueviolet', 'darkorchid']\n",
    "plt.figure(figsize=(7, 3))\n",
    "plt.bar(CV_df['Modelo'], CV_df['CV-Accuracy'], color=colores, alpha=0.8, width=0.5)\n",
    "plt.xlabel('Modelo', fontdict={'fontsize': 10})\n",
    "plt.ylabel('CV-Accuracy', fontdict={'fontsize': 10})\n",
    "plt.title('Cross Validation Accuracy', fontdict={'fontsize': 10})\n",
    "plt.show()"
   ]
  },
  {
   "cell_type": "markdown",
   "metadata": {},
   "source": [
    "Ahora comparamos todas las métricas de evaluación del conjunto de entrenamiento."
   ]
  },
  {
   "cell_type": "code",
   "execution_count": 60,
   "metadata": {},
   "outputs": [
    {
     "data": {
      "text/html": [
       "<div>\n",
       "<style scoped>\n",
       "    .dataframe tbody tr th:only-of-type {\n",
       "        vertical-align: middle;\n",
       "    }\n",
       "\n",
       "    .dataframe tbody tr th {\n",
       "        vertical-align: top;\n",
       "    }\n",
       "\n",
       "    .dataframe thead th {\n",
       "        text-align: right;\n",
       "    }\n",
       "</style>\n",
       "<table border=\"1\" class=\"dataframe\">\n",
       "  <thead>\n",
       "    <tr style=\"text-align: right;\">\n",
       "      <th></th>\n",
       "      <th>Modelo</th>\n",
       "      <th>Train Accuracy</th>\n",
       "      <th>Train Precision</th>\n",
       "      <th>Train Recall</th>\n",
       "      <th>Train F1</th>\n",
       "      <th>Train Error</th>\n",
       "      <th>Train Standard Error</th>\n",
       "    </tr>\n",
       "  </thead>\n",
       "  <tbody>\n",
       "    <tr>\n",
       "      <th>0</th>\n",
       "      <td>K-NN</td>\n",
       "      <td>0.75</td>\n",
       "      <td>0.76</td>\n",
       "      <td>0.94</td>\n",
       "      <td>0.84</td>\n",
       "      <td>0.25</td>\n",
       "      <td>0.43</td>\n",
       "    </tr>\n",
       "    <tr>\n",
       "      <th>1</th>\n",
       "      <td>Decision Tree</td>\n",
       "      <td>0.75</td>\n",
       "      <td>0.80</td>\n",
       "      <td>0.86</td>\n",
       "      <td>0.83</td>\n",
       "      <td>0.25</td>\n",
       "      <td>0.43</td>\n",
       "    </tr>\n",
       "    <tr>\n",
       "      <th>2</th>\n",
       "      <td>Logistic Regression</td>\n",
       "      <td>0.72</td>\n",
       "      <td>0.73</td>\n",
       "      <td>0.95</td>\n",
       "      <td>0.83</td>\n",
       "      <td>0.28</td>\n",
       "      <td>0.45</td>\n",
       "    </tr>\n",
       "    <tr>\n",
       "      <th>3</th>\n",
       "      <td>SVC</td>\n",
       "      <td>0.73</td>\n",
       "      <td>0.73</td>\n",
       "      <td>0.96</td>\n",
       "      <td>0.83</td>\n",
       "      <td>0.27</td>\n",
       "      <td>0.44</td>\n",
       "    </tr>\n",
       "  </tbody>\n",
       "</table>\n",
       "</div>"
      ],
      "text/plain": [
       "                Modelo  Train Accuracy  Train Precision  Train Recall  \\\n",
       "0                 K-NN            0.75             0.76          0.94   \n",
       "1        Decision Tree            0.75             0.80          0.86   \n",
       "2  Logistic Regression            0.72             0.73          0.95   \n",
       "3                  SVC            0.73             0.73          0.96   \n",
       "\n",
       "   Train F1  Train Error  Train Standard Error  \n",
       "0      0.84         0.25                  0.43  \n",
       "1      0.83         0.25                  0.43  \n",
       "2      0.83         0.28                  0.45  \n",
       "3      0.83         0.27                  0.44  "
      ]
     },
     "execution_count": 60,
     "metadata": {},
     "output_type": "execute_result"
    }
   ],
   "source": [
    "Train_data = {\n",
    "    'Modelo': ['K-NN', 'Decision Tree', 'Logistic Regression', 'SVC'],\n",
    "    'Train Accuracy': [Train_Accuracy_KNN, Train_Accuracy_ADD, Train_Accuracy_RL, Train_Accuracy_SVC],\n",
    "    'Train Precision': [Train_Precision_KNN, Train_Precision_ADD, Train_Precision_RL, Train_Precision_SVC],\n",
    "    'Train Recall': [Train_Recall_KNN, Train_Recall_ADD, Train_Recall_RL, Train_Recall_SVC],\n",
    "    'Train F1': [Train_F1_KNN, Train_F1_ADD, Train_F1_RL, Train_F1_SVC],\n",
    "    'Train Error': [Train_Error_KNN, Train_Error_ADD, Train_Error_RL, Train_Error_SVC],\n",
    "    'Train Standard Error': [Train_std_Error_KNN, Train_std_Error_ADD, Train_std_Error_RL, Train_std_Error_SVC]\n",
    "}\n",
    "Train_df = pd.DataFrame(Train_data).round(2)\n",
    "Train_df"
   ]
  },
  {
   "cell_type": "code",
   "execution_count": 61,
   "metadata": {},
   "outputs": [
    {
     "data": {
      "image/png": "[encoded data removed]",
      "text/plain": [
       "<Figure size 3000x1000 with 6 Axes>"
      ]
     },
     "metadata": {},
     "output_type": "display_data"
    }
   ],
   "source": [
    "fig, axs = plt.subplots(2, 3, figsize=(30, 10))\n",
    "\n",
    "axs[0, 0].bar(Train_df['Modelo'], Train_df['Train Accuracy'], color=colores, alpha=0.8, width=0.5)\n",
    "axs[0, 0].set_title('x = Modelo / y = Train Accuracy')\n",
    "\n",
    "axs[0, 1].bar(Train_df['Modelo'], Train_df['Train Precision'], color=colores, alpha=0.8, width=0.5)\n",
    "axs[0, 1].set_title('x = Modelo / y = Train Precision')\n",
    "\n",
    "axs[0, 2].bar(Train_df['Modelo'], Train_df['Train Recall'], color=colores, alpha=0.8, width=0.5)\n",
    "axs[0, 2].set_title('x = Modelo / y = Train Recall')\n",
    "\n",
    "axs[1, 0].bar(Train_df['Modelo'], Train_df['Train F1'], color=colores, alpha=0.8, width=0.5)\n",
    "axs[1, 0].set_title('x = Modelo / y = Train F1')\n",
    "\n",
    "axs[1, 1].bar(Train_df['Modelo'], Train_df['Train Error'], color=colores, alpha=0.8, width=0.5)\n",
    "axs[1, 1].set_title('x = Modelo / y = Train Error')\n",
    "\n",
    "axs[1, 2].bar(Train_df['Modelo'], Train_df['Train Standard Error'], color=colores, alpha=0.8, width=0.5)\n",
    "axs[1, 2].set_title('x = Modelo / y = Train Std Error')\n",
    "\n",
    "plt.suptitle('Train Set Metrics')\n",
    "plt.show()"
   ]
  },
  {
   "cell_type": "markdown",
   "metadata": {},
   "source": [
    "Y, por último, las métricas de evaluación del conjunto de test."
   ]
  },
  {
   "cell_type": "code",
   "execution_count": 62,
   "metadata": {},
   "outputs": [
    {
     "data": {
      "text/html": [
       "<div>\n",
       "<style scoped>\n",
       "    .dataframe tbody tr th:only-of-type {\n",
       "        vertical-align: middle;\n",
       "    }\n",
       "\n",
       "    .dataframe tbody tr th {\n",
       "        vertical-align: top;\n",
       "    }\n",
       "\n",
       "    .dataframe thead th {\n",
       "        text-align: right;\n",
       "    }\n",
       "</style>\n",
       "<table border=\"1\" class=\"dataframe\">\n",
       "  <thead>\n",
       "    <tr style=\"text-align: right;\">\n",
       "      <th></th>\n",
       "      <th>Modelo</th>\n",
       "      <th>Test Accuracy</th>\n",
       "      <th>Test Precision</th>\n",
       "      <th>Test Recall</th>\n",
       "      <th>Test F1</th>\n",
       "      <th>Test Error</th>\n",
       "      <th>Test Standard Error</th>\n",
       "    </tr>\n",
       "  </thead>\n",
       "  <tbody>\n",
       "    <tr>\n",
       "      <th>0</th>\n",
       "      <td>K-NN</td>\n",
       "      <td>0.71</td>\n",
       "      <td>0.73</td>\n",
       "      <td>0.92</td>\n",
       "      <td>0.82</td>\n",
       "      <td>0.34</td>\n",
       "      <td>0.47</td>\n",
       "    </tr>\n",
       "    <tr>\n",
       "      <th>1</th>\n",
       "      <td>Decision Tree</td>\n",
       "      <td>0.76</td>\n",
       "      <td>0.81</td>\n",
       "      <td>0.87</td>\n",
       "      <td>0.84</td>\n",
       "      <td>0.40</td>\n",
       "      <td>0.49</td>\n",
       "    </tr>\n",
       "    <tr>\n",
       "      <th>2</th>\n",
       "      <td>Logistic Regression</td>\n",
       "      <td>0.72</td>\n",
       "      <td>0.73</td>\n",
       "      <td>0.94</td>\n",
       "      <td>0.82</td>\n",
       "      <td>0.33</td>\n",
       "      <td>0.47</td>\n",
       "    </tr>\n",
       "    <tr>\n",
       "      <th>3</th>\n",
       "      <td>SVC</td>\n",
       "      <td>0.73</td>\n",
       "      <td>0.73</td>\n",
       "      <td>0.97</td>\n",
       "      <td>0.84</td>\n",
       "      <td>0.32</td>\n",
       "      <td>0.47</td>\n",
       "    </tr>\n",
       "  </tbody>\n",
       "</table>\n",
       "</div>"
      ],
      "text/plain": [
       "                Modelo  Test Accuracy  Test Precision  Test Recall  Test F1  \\\n",
       "0                 K-NN           0.71            0.73         0.92     0.82   \n",
       "1        Decision Tree           0.76            0.81         0.87     0.84   \n",
       "2  Logistic Regression           0.72            0.73         0.94     0.82   \n",
       "3                  SVC           0.73            0.73         0.97     0.84   \n",
       "\n",
       "   Test Error  Test Standard Error  \n",
       "0        0.34                 0.47  \n",
       "1        0.40                 0.49  \n",
       "2        0.33                 0.47  \n",
       "3        0.32                 0.47  "
      ]
     },
     "execution_count": 62,
     "metadata": {},
     "output_type": "execute_result"
    }
   ],
   "source": [
    "Test_data = {\n",
    "    'Modelo': ['K-NN', 'Decision Tree', 'Logistic Regression', 'SVC'],\n",
    "    'Test Accuracy': [Test_Accuracy_KNN, Test_Accuracy_ADD, Test_Accuracy_RL, Test_Accuracy_SVC],\n",
    "    'Test Precision': [Test_Precision_KNN, Test_Precision_ADD, Test_Precision_RL, Test_Precision_SVC],\n",
    "    'Test Recall': [Test_Recall_KNN, Test_Recall_ADD, Test_Recall_RL, Test_Recall_SVC],\n",
    "    'Test F1': [Test_F1_KNN, Test_F1_ADD, Test_F1_RL, Test_F1_SVC],\n",
    "    'Test Error': [Test_Error_KNN, Test_Error_ADD, Test_Error_RL, Test_Error_SVC],\n",
    "    'Test Standard Error': [Test_std_Error_KNN, Test_std_Error_ADD, Test_std_Error_RL, Test_std_Error_SVC]\n",
    "}\n",
    "Test_df = pd.DataFrame(Test_data).round(2)\n",
    "Test_df"
   ]
  },
  {
   "cell_type": "code",
   "execution_count": 63,
   "metadata": {},
   "outputs": [
    {
     "data": {
      "image/png": "[encoded data removed]",
      "text/plain": [
       "<Figure size 3000x1000 with 6 Axes>"
      ]
     },
     "metadata": {},
     "output_type": "display_data"
    }
   ],
   "source": [
    "fig, axs = plt.subplots(2, 3, figsize=(30, 10))\n",
    "\n",
    "axs[0, 0].bar(Test_df['Modelo'], Test_df['Test Accuracy'], color=colores, alpha=0.8, width=0.5)\n",
    "axs[0, 0].set_title('x = Modelo / y = Test Accuracy')\n",
    "\n",
    "axs[0, 1].bar(Test_df['Modelo'], Test_df['Test Precision'], color=colores, alpha=0.8, width=0.5)\n",
    "axs[0, 1].set_title('x = Modelo / y = Test Precision')\n",
    "\n",
    "axs[0, 2].bar(Test_df['Modelo'], Test_df['Test Recall'], color=colores, alpha=0.8, width=0.5)\n",
    "axs[0, 2].set_title('x = Modelo / y = Test Recall')\n",
    "\n",
    "axs[1, 0].bar(Test_df['Modelo'], Test_df['Test F1'], color=colores, alpha=0.8, width=0.5)\n",
    "axs[1, 0].set_title('x = Modelo / y = Test F1')\n",
    "\n",
    "axs[1, 1].bar(Test_df['Modelo'], Test_df['Test Error'], color=colores, alpha=0.8, width=0.5)\n",
    "axs[1, 1].set_title('x = Modelo / y = Test Error')\n",
    "\n",
    "axs[1, 2].bar(Test_df['Modelo'], Test_df['Test Standard Error'], color=colores, alpha=0.8, width=0.5)\n",
    "axs[1, 2].set_title('x = Modelo / y = Test Std Error')\n",
    "\n",
    "plt.suptitle('Test Set Metrics')\n",
    "plt.show()"
   ]
  }
 ],
 "metadata": {
  "kernelspec": {
   "display_name": "Python 3",
   "language": "python",
   "name": "python3"
  },
  "language_info": {
   "codemirror_mode": {
    "name": "ipython",
    "version": 3
   },
   "file_extension": ".py",
   "mimetype": "text/x-python",
   "name": "python",
   "nbconvert_exporter": "python",
   "pygments_lexer": "ipython3",
   "version": "3.9.13"
  }
 },
 "nbformat": 4,
 "nbformat_minor": 2
}
